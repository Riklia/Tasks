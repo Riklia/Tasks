{
 "cells": [
  {
   "cell_type": "markdown",
   "id": "7998a19f",
   "metadata": {},
   "source": [
    "1. Знайти кількість злочинів, що сталися у грудні 2012 року в інтервалі між першою годиною ночі та п'ятою ранку (`CrimesData`)"
   ]
  },
  {
   "cell_type": "code",
   "execution_count": 2,
   "id": "ea23023b",
   "metadata": {},
   "outputs": [],
   "source": [
    "import pandas as pd\n",
    "import numpy as np"
   ]
  },
  {
   "cell_type": "code",
   "execution_count": 3,
   "id": "c43cf6fb",
   "metadata": {},
   "outputs": [
    {
     "data": {
      "text/plain": [
       "41"
      ]
     },
     "execution_count": 3,
     "metadata": {},
     "output_type": "execute_result"
    }
   ],
   "source": [
    "def fix_time(cell):\n",
    "    if len(cell) == 4 and ':' not in cell:\n",
    "        return f'{cell[:2]}:{cell[2:]}:00'\n",
    "    else:\n",
    "        return cell\n",
    "\n",
    "crimes_data = pd.read_excel(\n",
    "    'Заняття6/Files/CrimesData.xlsx',\n",
    "    sheet_name='2012',\n",
    ")\n",
    "\n",
    "crimes_data['CrimeTime'] = crimes_data['CrimeTime'].apply(fix_time)\n",
    "\n",
    "crimes_data['CrimeDateTime'] = crimes_data['CrimeDate'] + ' ' + crimes_data['CrimeTime']\n",
    "crimes_data.drop(['CrimeDate', 'CrimeTime'], axis=1, inplace=True)\n",
    "crimes_data['CrimeDateTime'] = pd.to_datetime(\n",
    "    crimes_data['CrimeDateTime'],\n",
    "    format='%m/%d/%Y %H:%M:%S'\n",
    ")\n",
    "\n",
    "len(crimes_data[\n",
    "    (crimes_data.CrimeDateTime.dt.month == 12) & \n",
    "    (crimes_data.CrimeDateTime.dt.time >= pd.to_datetime('01:00:00').time()) & \n",
    "    (crimes_data.CrimeDateTime.dt.time <= pd.to_datetime('05:00:00').time())\n",
    "])"
   ]
  },
  {
   "cell_type": "markdown",
   "id": "33f500df",
   "metadata": {},
   "source": [
    "2. Знайти середню, мінімальну і максимальну вартість квитка в залежності від місця посадки і класу каюти (`Титанік`)"
   ]
  },
  {
   "cell_type": "code",
   "execution_count": 89,
   "id": "c8b2cc9c",
   "metadata": {},
   "outputs": [
    {
     "data": {
      "text/html": [
       "<div>\n",
       "<style scoped>\n",
       "    .dataframe tbody tr th:only-of-type {\n",
       "        vertical-align: middle;\n",
       "    }\n",
       "\n",
       "    .dataframe tbody tr th {\n",
       "        vertical-align: top;\n",
       "    }\n",
       "\n",
       "    .dataframe thead th {\n",
       "        text-align: right;\n",
       "    }\n",
       "</style>\n",
       "<table border=\"1\" class=\"dataframe\">\n",
       "  <thead>\n",
       "    <tr style=\"text-align: right;\">\n",
       "      <th></th>\n",
       "      <th></th>\n",
       "      <th>min_fare</th>\n",
       "      <th>max_fare</th>\n",
       "      <th>mean_fare</th>\n",
       "    </tr>\n",
       "    <tr>\n",
       "      <th>Embarked</th>\n",
       "      <th>Pclass</th>\n",
       "      <th></th>\n",
       "      <th></th>\n",
       "      <th></th>\n",
       "    </tr>\n",
       "  </thead>\n",
       "  <tbody>\n",
       "    <tr>\n",
       "      <th rowspan=\"3\" valign=\"top\">C</th>\n",
       "      <th>1</th>\n",
       "      <td>26.5500</td>\n",
       "      <td>512.3292</td>\n",
       "      <td>104.718529</td>\n",
       "    </tr>\n",
       "    <tr>\n",
       "      <th>2</th>\n",
       "      <td>12.0000</td>\n",
       "      <td>41.5792</td>\n",
       "      <td>25.358335</td>\n",
       "    </tr>\n",
       "    <tr>\n",
       "      <th>3</th>\n",
       "      <td>4.0125</td>\n",
       "      <td>22.3583</td>\n",
       "      <td>11.214083</td>\n",
       "    </tr>\n",
       "    <tr>\n",
       "      <th rowspan=\"3\" valign=\"top\">Q</th>\n",
       "      <th>1</th>\n",
       "      <td>90.0000</td>\n",
       "      <td>90.0000</td>\n",
       "      <td>90.000000</td>\n",
       "    </tr>\n",
       "    <tr>\n",
       "      <th>2</th>\n",
       "      <td>12.3500</td>\n",
       "      <td>12.3500</td>\n",
       "      <td>12.350000</td>\n",
       "    </tr>\n",
       "    <tr>\n",
       "      <th>3</th>\n",
       "      <td>6.7500</td>\n",
       "      <td>29.1250</td>\n",
       "      <td>11.183393</td>\n",
       "    </tr>\n",
       "    <tr>\n",
       "      <th rowspan=\"3\" valign=\"top\">S</th>\n",
       "      <th>1</th>\n",
       "      <td>0.0000</td>\n",
       "      <td>263.0000</td>\n",
       "      <td>70.364862</td>\n",
       "    </tr>\n",
       "    <tr>\n",
       "      <th>2</th>\n",
       "      <td>0.0000</td>\n",
       "      <td>73.5000</td>\n",
       "      <td>20.327439</td>\n",
       "    </tr>\n",
       "    <tr>\n",
       "      <th>3</th>\n",
       "      <td>0.0000</td>\n",
       "      <td>69.5500</td>\n",
       "      <td>14.644083</td>\n",
       "    </tr>\n",
       "  </tbody>\n",
       "</table>\n",
       "</div>"
      ],
      "text/plain": [
       "                 min_fare  max_fare   mean_fare\n",
       "Embarked Pclass                                \n",
       "C        1        26.5500  512.3292  104.718529\n",
       "         2        12.0000   41.5792   25.358335\n",
       "         3         4.0125   22.3583   11.214083\n",
       "Q        1        90.0000   90.0000   90.000000\n",
       "         2        12.3500   12.3500   12.350000\n",
       "         3         6.7500   29.1250   11.183393\n",
       "S        1         0.0000  263.0000   70.364862\n",
       "         2         0.0000   73.5000   20.327439\n",
       "         3         0.0000   69.5500   14.644083"
      ]
     },
     "execution_count": 89,
     "metadata": {},
     "output_type": "execute_result"
    }
   ],
   "source": [
    "titanic_data = pd.read_csv('Заняття6/Files/TitanicDataset.csv', sep=',', header=0)\n",
    "\n",
    "agr_data = titanic_data.groupby(by=['Embarked', 'Pclass']).agg(\n",
    "    min_fare=('Fare', np.min),\n",
    "    max_fare=('Fare', np.max),\n",
    "    mean_fare=('Fare', np.mean),\n",
    ")\n",
    "agr_data.head(9)"
   ]
  },
  {
   "cell_type": "markdown",
   "id": "2b44be6a",
   "metadata": {},
   "source": [
    "3. Найти загальну суму продажу по місяцях 2019-го року; вивести в форматі місяця - сума в порядку збільшення суми (`Sales`)"
   ]
  },
  {
   "cell_type": "code",
   "execution_count": 90,
   "id": "2d22ddd8",
   "metadata": {},
   "outputs": [
    {
     "data": {
      "text/html": [
       "<div>\n",
       "<style scoped>\n",
       "    .dataframe tbody tr th:only-of-type {\n",
       "        vertical-align: middle;\n",
       "    }\n",
       "\n",
       "    .dataframe tbody tr th {\n",
       "        vertical-align: top;\n",
       "    }\n",
       "\n",
       "    .dataframe thead th {\n",
       "        text-align: right;\n",
       "    }\n",
       "</style>\n",
       "<table border=\"1\" class=\"dataframe\">\n",
       "  <thead>\n",
       "    <tr style=\"text-align: right;\">\n",
       "      <th></th>\n",
       "      <th>MonthTotal</th>\n",
       "    </tr>\n",
       "    <tr>\n",
       "      <th>OrderDate</th>\n",
       "      <th></th>\n",
       "    </tr>\n",
       "  </thead>\n",
       "  <tbody>\n",
       "    <tr>\n",
       "      <th>March</th>\n",
       "      <td>167.44</td>\n",
       "    </tr>\n",
       "    <tr>\n",
       "      <th>August</th>\n",
       "      <td>174.65</td>\n",
       "    </tr>\n",
       "    <tr>\n",
       "      <th>April</th>\n",
       "      <td>448.65</td>\n",
       "    </tr>\n",
       "    <tr>\n",
       "      <th>September</th>\n",
       "      <td>505.84</td>\n",
       "    </tr>\n",
       "    <tr>\n",
       "      <th>May</th>\n",
       "      <td>512.78</td>\n",
       "    </tr>\n",
       "    <tr>\n",
       "      <th>February</th>\n",
       "      <td>719.37</td>\n",
       "    </tr>\n",
       "    <tr>\n",
       "      <th>November</th>\n",
       "      <td>778.89</td>\n",
       "    </tr>\n",
       "    <tr>\n",
       "      <th>October</th>\n",
       "      <td>827.08</td>\n",
       "    </tr>\n",
       "    <tr>\n",
       "      <th>June</th>\n",
       "      <td>988.50</td>\n",
       "    </tr>\n",
       "    <tr>\n",
       "      <th>January</th>\n",
       "      <td>1188.55</td>\n",
       "    </tr>\n",
       "    <tr>\n",
       "      <th>December</th>\n",
       "      <td>1269.69</td>\n",
       "    </tr>\n",
       "    <tr>\n",
       "      <th>July</th>\n",
       "      <td>1676.90</td>\n",
       "    </tr>\n",
       "  </tbody>\n",
       "</table>\n",
       "</div>"
      ],
      "text/plain": [
       "           MonthTotal\n",
       "OrderDate            \n",
       "March          167.44\n",
       "August         174.65\n",
       "April          448.65\n",
       "September      505.84\n",
       "May            512.78\n",
       "February       719.37\n",
       "November       778.89\n",
       "October        827.08\n",
       "June           988.50\n",
       "January       1188.55\n",
       "December      1269.69\n",
       "July          1676.90"
      ]
     },
     "execution_count": 90,
     "metadata": {},
     "output_type": "execute_result"
    }
   ],
   "source": [
    "sales_data = pd.read_csv('Заняття6/Files/SalesData.csv', sep=',', header=0)\n",
    "sales_data['OrderDate'] = pd.to_datetime(sales_data['OrderDate'])\n",
    "\n",
    "# sales_data['OrderMonth'] = sales_data['OrderDate'].dt.strftime(\"%B\")\n",
    "\n",
    "sales_data[sales_data['OrderDate'].dt.year == 2019].groupby(\n",
    "    by=[sales_data['OrderDate'].dt.strftime(\"%B\")]).agg(\n",
    "    MonthTotal=('Total', np.sum)).sort_values(\n",
    "    by=['MonthTotal'], ascending=True, inplace=False)"
   ]
  },
  {
   "cell_type": "markdown",
   "id": "afdadbe3",
   "metadata": {},
   "source": [
    "4. Знайти всіх виконавців, у яких понад 10 альбомів (`chinook`/`albums`)"
   ]
  },
  {
   "cell_type": "code",
   "execution_count": 75,
   "id": "bc9cafa5",
   "metadata": {},
   "outputs": [
    {
     "data": {
      "text/html": [
       "<div>\n",
       "<style scoped>\n",
       "    .dataframe tbody tr th:only-of-type {\n",
       "        vertical-align: middle;\n",
       "    }\n",
       "\n",
       "    .dataframe tbody tr th {\n",
       "        vertical-align: top;\n",
       "    }\n",
       "\n",
       "    .dataframe thead th {\n",
       "        text-align: right;\n",
       "    }\n",
       "</style>\n",
       "<table border=\"1\" class=\"dataframe\">\n",
       "  <thead>\n",
       "    <tr style=\"text-align: right;\">\n",
       "      <th></th>\n",
       "      <th>count_alb</th>\n",
       "    </tr>\n",
       "    <tr>\n",
       "      <th>ArtistId</th>\n",
       "      <th></th>\n",
       "    </tr>\n",
       "  </thead>\n",
       "  <tbody>\n",
       "    <tr>\n",
       "      <th>22</th>\n",
       "      <td>14</td>\n",
       "    </tr>\n",
       "    <tr>\n",
       "      <th>58</th>\n",
       "      <td>11</td>\n",
       "    </tr>\n",
       "    <tr>\n",
       "      <th>90</th>\n",
       "      <td>21</td>\n",
       "    </tr>\n",
       "  </tbody>\n",
       "</table>\n",
       "</div>"
      ],
      "text/plain": [
       "          count_alb\n",
       "ArtistId           \n",
       "22               14\n",
       "58               11\n",
       "90               21"
      ]
     },
     "execution_count": 75,
     "metadata": {},
     "output_type": "execute_result"
    }
   ],
   "source": [
    "import sqlite3\n",
    "\n",
    "connection = sqlite3.connect('Заняття6/Files/chinook.db')\n",
    "\n",
    "chinook_data = pd.read_sql_query(\n",
    "    sql=\"SELECT * FROM albums\", \n",
    "    con=connection \n",
    ")\n",
    "album_count = chinook_data.groupby(by=['ArtistId']).agg(\n",
    "    count_alb = ('AlbumId', 'count')\n",
    ")\n",
    "album_count[album_count['count_alb'] > 10]"
   ]
  },
  {
   "cell_type": "code",
   "execution_count": 78,
   "id": "d2fd6104",
   "metadata": {},
   "outputs": [
    {
     "name": "stdout",
     "output_type": "stream",
     "text": [
      "   ArtistId  count(AlbumId)\n",
      "0        22              14\n",
      "1        58              11\n",
      "2        90              21\n"
     ]
    }
   ],
   "source": [
    "# chinook_data_sql = pd.read_sql_query(\n",
    "#     sql=\"SELECT ArtistId, count(AlbumId) FROM albums GROUP BY ArtistId HAVING count(AlbumId)>10\", \n",
    "#     con=connection \n",
    "# )\n",
    "# print(chinook_data_sql)"
   ]
  },
  {
   "cell_type": "markdown",
   "id": "7c473fd4",
   "metadata": {},
   "source": [
    "5. Знайти всіх родичів по прізвищу. В результаті повинна вийти таблиця з двома колонками. У першій колонці повне ім&#39;я пасажира, у другій його родичів на борту (вважати родичами пасажирів, у яких збігається прізвище) (`Titanic`)"
   ]
  },
  {
   "cell_type": "code",
   "execution_count": null,
   "id": "528c72dd",
   "metadata": {},
   "outputs": [],
   "source": [
    "titanic_data = pd.read_csv('Заняття6/Files/TitanicDataset.csv', sep=',', header=0)\n",
    "titanic_data['LastName'] = titanic_data['Name'].apply(\n",
    "    lambda x: x.split(',')[0])\n",
    "\n",
    "titanic_relatives = pd.merge(\n",
    "    left = titanic_data[['LastName', 'Name']],\n",
    "    right = titanic_data[['LastName', 'Name']],\n",
    "    on = \"LastName\",\n",
    "    how = 'inner')\n",
    "titanic_relatives.drop(['LastName'], axis=1, inplace=True)\n",
    "titanic_relatives.rename(\n",
    "    columns = {'Name_x': 'Name', 'Name_y': 'Relatives'}, inplace = True)\n",
    "titanic_relatives[titanic_relatives['Name'] != titanic_relatives['Relatives']].groupby('Name').agg(\n",
    "    {'Relatives': lambda x: '; '.join(x)}\n",
    ")"
   ]
  },
  {
   "cell_type": "code",
   "execution_count": null,
   "id": "c69789f5",
   "metadata": {},
   "outputs": [],
   "source": []
  }
 ],
 "metadata": {
  "kernelspec": {
   "display_name": "Python 3 (ipykernel)",
   "language": "python",
   "name": "python3"
  },
  "language_info": {
   "codemirror_mode": {
    "name": "ipython",
    "version": 3
   },
   "file_extension": ".py",
   "mimetype": "text/x-python",
   "name": "python",
   "nbconvert_exporter": "python",
   "pygments_lexer": "ipython3",
   "version": "3.10.6"
  }
 },
 "nbformat": 4,
 "nbformat_minor": 5
}
