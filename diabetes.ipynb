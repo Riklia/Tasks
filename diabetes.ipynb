{
 "cells": [
  {
   "cell_type": "code",
   "execution_count": 27,
   "id": "764968d3",
   "metadata": {},
   "outputs": [],
   "source": [
    "import pandas as pd\n",
    "import numpy as np"
   ]
  },
  {
   "cell_type": "markdown",
   "id": "d60b0de7",
   "metadata": {},
   "source": [
    "Зчитаємо файл `diabetes.csv`"
   ]
  },
  {
   "cell_type": "code",
   "execution_count": 88,
   "id": "edac0ed0",
   "metadata": {},
   "outputs": [],
   "source": [
    "diabetes_df = pd.read_csv('diabetes.csv')"
   ]
  },
  {
   "cell_type": "code",
   "execution_count": 89,
   "id": "d44bbad3",
   "metadata": {},
   "outputs": [
    {
     "data": {
      "text/html": [
       "<div>\n",
       "<style scoped>\n",
       "    .dataframe tbody tr th:only-of-type {\n",
       "        vertical-align: middle;\n",
       "    }\n",
       "\n",
       "    .dataframe tbody tr th {\n",
       "        vertical-align: top;\n",
       "    }\n",
       "\n",
       "    .dataframe thead th {\n",
       "        text-align: right;\n",
       "    }\n",
       "</style>\n",
       "<table border=\"1\" class=\"dataframe\">\n",
       "  <thead>\n",
       "    <tr style=\"text-align: right;\">\n",
       "      <th></th>\n",
       "      <th>Pregnancies</th>\n",
       "      <th>Glucose</th>\n",
       "      <th>BloodPressure</th>\n",
       "      <th>SkinThickness</th>\n",
       "      <th>Insulin</th>\n",
       "      <th>BMI</th>\n",
       "      <th>DiabetesPedigreeFunction</th>\n",
       "      <th>Age</th>\n",
       "      <th>Outcome</th>\n",
       "    </tr>\n",
       "  </thead>\n",
       "  <tbody>\n",
       "    <tr>\n",
       "      <th>0</th>\n",
       "      <td>6</td>\n",
       "      <td>148</td>\n",
       "      <td>72</td>\n",
       "      <td>35</td>\n",
       "      <td>0</td>\n",
       "      <td>33.6</td>\n",
       "      <td>0.627</td>\n",
       "      <td>50</td>\n",
       "      <td>1</td>\n",
       "    </tr>\n",
       "    <tr>\n",
       "      <th>1</th>\n",
       "      <td>1</td>\n",
       "      <td>85</td>\n",
       "      <td>66</td>\n",
       "      <td>29</td>\n",
       "      <td>0</td>\n",
       "      <td>26.6</td>\n",
       "      <td>0.351</td>\n",
       "      <td>31</td>\n",
       "      <td>0</td>\n",
       "    </tr>\n",
       "    <tr>\n",
       "      <th>2</th>\n",
       "      <td>8</td>\n",
       "      <td>183</td>\n",
       "      <td>64</td>\n",
       "      <td>0</td>\n",
       "      <td>0</td>\n",
       "      <td>23.3</td>\n",
       "      <td>0.672</td>\n",
       "      <td>32</td>\n",
       "      <td>1</td>\n",
       "    </tr>\n",
       "    <tr>\n",
       "      <th>3</th>\n",
       "      <td>1</td>\n",
       "      <td>89</td>\n",
       "      <td>66</td>\n",
       "      <td>23</td>\n",
       "      <td>94</td>\n",
       "      <td>28.1</td>\n",
       "      <td>0.167</td>\n",
       "      <td>21</td>\n",
       "      <td>0</td>\n",
       "    </tr>\n",
       "    <tr>\n",
       "      <th>4</th>\n",
       "      <td>0</td>\n",
       "      <td>137</td>\n",
       "      <td>40</td>\n",
       "      <td>35</td>\n",
       "      <td>168</td>\n",
       "      <td>43.1</td>\n",
       "      <td>2.288</td>\n",
       "      <td>33</td>\n",
       "      <td>1</td>\n",
       "    </tr>\n",
       "  </tbody>\n",
       "</table>\n",
       "</div>"
      ],
      "text/plain": [
       "   Pregnancies  Glucose  BloodPressure  SkinThickness  Insulin   BMI  \\\n",
       "0            6      148             72             35        0  33.6   \n",
       "1            1       85             66             29        0  26.6   \n",
       "2            8      183             64              0        0  23.3   \n",
       "3            1       89             66             23       94  28.1   \n",
       "4            0      137             40             35      168  43.1   \n",
       "\n",
       "   DiabetesPedigreeFunction  Age  Outcome  \n",
       "0                     0.627   50        1  \n",
       "1                     0.351   31        0  \n",
       "2                     0.672   32        1  \n",
       "3                     0.167   21        0  \n",
       "4                     2.288   33        1  "
      ]
     },
     "execution_count": 89,
     "metadata": {},
     "output_type": "execute_result"
    }
   ],
   "source": [
    "diabetes_df.head()"
   ]
  },
  {
   "cell_type": "code",
   "execution_count": 90,
   "id": "d6745295",
   "metadata": {},
   "outputs": [
    {
     "name": "stdout",
     "output_type": "stream",
     "text": [
      "<class 'pandas.core.frame.DataFrame'>\n",
      "RangeIndex: 768 entries, 0 to 767\n",
      "Data columns (total 9 columns):\n",
      " #   Column                    Non-Null Count  Dtype  \n",
      "---  ------                    --------------  -----  \n",
      " 0   Pregnancies               768 non-null    int64  \n",
      " 1   Glucose                   768 non-null    int64  \n",
      " 2   BloodPressure             768 non-null    int64  \n",
      " 3   SkinThickness             768 non-null    int64  \n",
      " 4   Insulin                   768 non-null    int64  \n",
      " 5   BMI                       768 non-null    float64\n",
      " 6   DiabetesPedigreeFunction  768 non-null    float64\n",
      " 7   Age                       768 non-null    int64  \n",
      " 8   Outcome                   768 non-null    int64  \n",
      "dtypes: float64(2), int64(7)\n",
      "memory usage: 54.1 KB\n"
     ]
    }
   ],
   "source": [
    "diabetes_df.info()"
   ]
  },
  {
   "cell_type": "markdown",
   "id": "65cab318",
   "metadata": {},
   "source": [
    "Вихідна величина - `Outcome`, а вхідні величини - `Pregnancies, Glucose, BloodPressure, SkinThickness, Insulin, BMI, DiabetesPedigreeFunction, Age`"
   ]
  },
  {
   "cell_type": "code",
   "execution_count": 31,
   "id": "9b740fad",
   "metadata": {},
   "outputs": [
    {
     "name": "stdout",
     "output_type": "stream",
     "text": [
      "Pregnancies: 111 zero values\n",
      "Glucose: 5 zero values\n",
      "BloodPressure: 35 zero values\n",
      "SkinThickness: 227 zero values\n",
      "Insulin: 374 zero values\n",
      "BMI: 11 zero values\n",
      "DiabetesPedigreeFunction: 0 zero values\n",
      "Age: 0 zero values\n",
      "Outcome: 500 zero values\n"
     ]
    }
   ],
   "source": [
    "for col in diabetes_df.columns:\n",
    "    num_zeros = (diabetes_df[col] == 0).sum()\n",
    "    print(f\"{col}: {num_zeros} zero values\")"
   ]
  },
  {
   "cell_type": "markdown",
   "id": "731b12cf",
   "metadata": {},
   "source": [
    "Значення `Glucose, BloodPressure, SkinThickness, Insulin, BMI` містять нульові значення, але насправді це неможливо, тому це є індикатором пропущених значень.  \n",
    "Напишемо функцію, яка буде замінювати нульові значення цих атрибутів залежно від того, чи людина має цукровий діабет."
   ]
  },
  {
   "cell_type": "code",
   "execution_count": 32,
   "id": "e0c544d9",
   "metadata": {},
   "outputs": [],
   "source": [
    "def fill_missing_values(df):\n",
    "\n",
    "    # Замінюємо \"неможливі\" нулі на NaN\n",
    "    cols = ['Glucose', 'BloodPressure', 'SkinThickness', 'Insulin', 'BMI']\n",
    "    df[cols] = df[cols].replace(0, np.nan)\n",
    "    \n",
    "    outcome_groups = df.groupby('Outcome')\n",
    "    median_by_outcome = outcome_groups.median()\n",
    "    \n",
    "    for col in cols:\n",
    "        for outcome in [0, 1]:\n",
    "            df.loc[(df[col].isnull()) & (df['Outcome'] == outcome), col] = median_by_outcome.loc[outcome, col]\n",
    "            \n",
    "    return df"
   ]
  },
  {
   "cell_type": "code",
   "execution_count": 33,
   "id": "32cd902d",
   "metadata": {},
   "outputs": [],
   "source": [
    "diabetes_df = fill_missing_values(diabetes_df)"
   ]
  },
  {
   "cell_type": "code",
   "execution_count": 34,
   "id": "4b883b63",
   "metadata": {},
   "outputs": [
    {
     "name": "stdout",
     "output_type": "stream",
     "text": [
      "Pregnancies: 111 zero values\n",
      "Glucose: 0 zero values\n",
      "BloodPressure: 0 zero values\n",
      "SkinThickness: 0 zero values\n",
      "Insulin: 0 zero values\n",
      "BMI: 0 zero values\n",
      "DiabetesPedigreeFunction: 0 zero values\n",
      "Age: 0 zero values\n",
      "Outcome: 500 zero values\n"
     ]
    }
   ],
   "source": [
    "for col in diabetes_df.columns:\n",
    "    num_zeros = (diabetes_df[col] == 0).sum()\n",
    "    print(f\"{col}: {num_zeros} zero values\")"
   ]
  },
  {
   "cell_type": "markdown",
   "id": "f1f9c471",
   "metadata": {},
   "source": [
    "Отже, тепер нерелевантні нулі видалено."
   ]
  },
  {
   "cell_type": "code",
   "execution_count": 35,
   "id": "5196a3a5",
   "metadata": {},
   "outputs": [
    {
     "data": {
      "image/png": "[encoded data removed]",
      "text/plain": [
       "<Figure size 1800x900 with 9 Axes>"
      ]
     },
     "metadata": {},
     "output_type": "display_data"
    }
   ],
   "source": [
    "from matplotlib import pyplot as plt\n",
    "plt.figure(figsize=(18, 9))\n",
    "\n",
    "for i in range(9):\n",
    "    plt.subplot(3, 4, i + 1)\n",
    "    plt.hist(diabetes_df.iloc[:,i])\n",
    "    plt.title(diabetes_df.columns[i])\n",
    "    \n",
    "plt.tight_layout()     \n",
    "plt.show()"
   ]
  },
  {
   "cell_type": "code",
   "execution_count": 91,
   "id": "ae31bb98",
   "metadata": {},
   "outputs": [],
   "source": [
    "X, y = diabetes_df.loc[:, diabetes_df.columns != 'Outcome'], diabetes_df['Outcome'].values"
   ]
  },
  {
   "cell_type": "markdown",
   "id": "12d93d0e",
   "metadata": {},
   "source": [
    "Створимо словник, у якому будемо зберігати результати наших моделей."
   ]
  },
  {
   "cell_type": "code",
   "execution_count": 37,
   "id": "b5361bbd",
   "metadata": {},
   "outputs": [],
   "source": [
    "model_results = {}"
   ]
  },
  {
   "cell_type": "code",
   "execution_count": 38,
   "id": "d183badb",
   "metadata": {},
   "outputs": [],
   "source": [
    "from sklearn.model_selection import KFold\n",
    "\n",
    "kf = KFold(\n",
    "    n_splits=4,\n",
    "    shuffle=True,\n",
    "    random_state=42\n",
    ")"
   ]
  },
  {
   "cell_type": "markdown",
   "id": "dcbd9a56",
   "metadata": {},
   "source": [
    "<b>1) Логістична регресія</b>"
   ]
  },
  {
   "cell_type": "code",
   "execution_count": 39,
   "id": "dd439730",
   "metadata": {},
   "outputs": [
    {
     "name": "stdout",
     "output_type": "stream",
     "text": [
      "Precision: 0.6870 +- 0.0335\n",
      "Recall: 0.5842 +- 0.0567\n",
      "F1 score: 0.6291 +- 0.0312\n",
      "AUC: 0.7201 +- 0.0255\n"
     ]
    }
   ],
   "source": [
    "from sklearn.linear_model import LogisticRegression\n",
    "from sklearn.metrics import precision_score, recall_score, f1_score, roc_auc_score, roc_curve, auc\n",
    "\n",
    "precision_scores, recall_scores, f1_scores, aucs = [], [], [], []\n",
    "\n",
    "for train_idx, test_idx in kf.split(X, y):\n",
    "    X_train, y_train = X.loc[train_idx], y[train_idx]\n",
    "    X_test, y_test = X.loc[test_idx], y[test_idx]\n",
    "    \n",
    "    model = LogisticRegression(max_iter=1000, random_state=42).fit(X_train, y_train)\n",
    "    y_test_probs = model.predict_proba(X_test)[:, 1]\n",
    "    y_test_preds = model.predict(X_test)\n",
    "\n",
    "    precision_scores.append(precision_score(y_test, y_test_preds))\n",
    "    recall_scores.append(recall_score(y_test, y_test_preds))\n",
    "    f1_scores.append(f1_score(y_test, y_test_preds))\n",
    "    aucs.append(roc_auc_score(y_test, y_test_preds))\n",
    "\n",
    "print(f'Precision: {np.mean(precision_scores):.4f} +- {np.std(precision_scores):.4f}')\n",
    "print(f'Recall: {np.mean(recall_scores):.4f} +- {np.std(recall_scores):.4f}')\n",
    "print(f'F1 score: {np.mean(f1_scores):.4f} +- {np.std(f1_scores):.4f}')\n",
    "print(f'AUC: {np.mean(aucs):.4f} +- {np.std(aucs):.4f}')"
   ]
  },
  {
   "cell_type": "markdown",
   "id": "84d124b7",
   "metadata": {},
   "source": [
    "У випадку, якщо модель передбачить у пацієнта діабет, то пацієнту будуть призначені додаткові дослідження. Тому у нашому випадку false positives краще, ніж false negatives. Метрика Recall, на якій потрібно більше сконцентруватися, вийшла низька"
   ]
  },
  {
   "cell_type": "markdown",
   "id": "6f7423c9",
   "metadata": {},
   "source": [
    "За замовчуванням у нашого класифікатора порогове значення 0.5, тому спробуємо знизити цей поріг:"
   ]
  },
  {
   "cell_type": "code",
   "execution_count": 40,
   "id": "2881fe93",
   "metadata": {},
   "outputs": [],
   "source": [
    "results = []\n",
    "for thr in np.linspace(0.05, 0.5, 10):\n",
    "    precision_scores, recall_scores, f1_scores, aucs = [], [], [], []\n",
    "    for train_idx, test_idx in kf.split(X, y):\n",
    "        X_train, y_train = X.loc[train_idx], y[train_idx]\n",
    "        X_test, y_test = X.loc[test_idx], y[test_idx]\n",
    "\n",
    "        model = LogisticRegression(max_iter=1000, random_state=42).fit(X_train, y_train)\n",
    "\n",
    "        y_test_preds = model.predict(X_test)\n",
    "\n",
    "        y_test_probs = model.predict_proba(X_test)[:, 1]\n",
    "        y_test_preds = (y_test_probs >= thr).astype(int)\n",
    "\n",
    "        precision_scores.append(precision_score(y_test, y_test_preds))\n",
    "        recall_scores.append(recall_score(y_test, y_test_preds))\n",
    "        f1_scores.append(f1_score(y_test, y_test_preds))\n",
    "        aucs.append(roc_auc_score(y_test, y_test_preds))\n",
    "    # Treshold / Precision / Recall / F1 score / AUC\n",
    "    results.append([thr, \n",
    "                    f'{np.mean(precision_scores):.4f} ± {np.std(precision_scores):.4f}',\n",
    "                   f'{np.mean(recall_scores):.4f} ± {np.std(recall_scores):.4f}',\n",
    "                   f'{np.mean(f1_scores):.4f} ± {np.std(f1_scores):.4f}',\n",
    "                   f'{np.mean(aucs):.4f} +- {np.std(aucs):.4f}'])"
   ]
  },
  {
   "cell_type": "code",
   "execution_count": 41,
   "id": "710312f5",
   "metadata": {},
   "outputs": [
    {
     "data": {
      "text/html": [
       "<div>\n",
       "<style scoped>\n",
       "    .dataframe tbody tr th:only-of-type {\n",
       "        vertical-align: middle;\n",
       "    }\n",
       "\n",
       "    .dataframe tbody tr th {\n",
       "        vertical-align: top;\n",
       "    }\n",
       "\n",
       "    .dataframe thead th {\n",
       "        text-align: right;\n",
       "    }\n",
       "</style>\n",
       "<table border=\"1\" class=\"dataframe\">\n",
       "  <thead>\n",
       "    <tr style=\"text-align: right;\">\n",
       "      <th></th>\n",
       "      <th>Threshold</th>\n",
       "      <th>Precision</th>\n",
       "      <th>Recall</th>\n",
       "      <th>F1 score</th>\n",
       "      <th>AUC</th>\n",
       "    </tr>\n",
       "  </thead>\n",
       "  <tbody>\n",
       "    <tr>\n",
       "      <th>0</th>\n",
       "      <td>0.05</td>\n",
       "      <td>0.3958 ± 0.0267</td>\n",
       "      <td>0.9928 ± 0.0072</td>\n",
       "      <td>0.5654 ± 0.0272</td>\n",
       "      <td>0.5898 +- 0.0150</td>\n",
       "    </tr>\n",
       "    <tr>\n",
       "      <th>1</th>\n",
       "      <td>0.10</td>\n",
       "      <td>0.4629 ± 0.0179</td>\n",
       "      <td>0.9783 ± 0.0299</td>\n",
       "      <td>0.6281 ± 0.0171</td>\n",
       "      <td>0.6850 +- 0.0190</td>\n",
       "    </tr>\n",
       "    <tr>\n",
       "      <th>2</th>\n",
       "      <td>0.15</td>\n",
       "      <td>0.5103 ± 0.0256</td>\n",
       "      <td>0.9597 ± 0.0342</td>\n",
       "      <td>0.6658 ± 0.0237</td>\n",
       "      <td>0.7328 +- 0.0259</td>\n",
       "    </tr>\n",
       "    <tr>\n",
       "      <th>3</th>\n",
       "      <td>0.20</td>\n",
       "      <td>0.5598 ± 0.0192</td>\n",
       "      <td>0.9044 ± 0.0372</td>\n",
       "      <td>0.6910 ± 0.0168</td>\n",
       "      <td>0.7609 +- 0.0288</td>\n",
       "    </tr>\n",
       "    <tr>\n",
       "      <th>4</th>\n",
       "      <td>0.25</td>\n",
       "      <td>0.6042 ± 0.0328</td>\n",
       "      <td>0.8636 ± 0.0559</td>\n",
       "      <td>0.7098 ± 0.0316</td>\n",
       "      <td>0.7783 +- 0.0393</td>\n",
       "    </tr>\n",
       "    <tr>\n",
       "      <th>5</th>\n",
       "      <td>0.30</td>\n",
       "      <td>0.6407 ± 0.0392</td>\n",
       "      <td>0.8264 ± 0.0473</td>\n",
       "      <td>0.7202 ± 0.0276</td>\n",
       "      <td>0.7868 +- 0.0335</td>\n",
       "    </tr>\n",
       "    <tr>\n",
       "      <th>6</th>\n",
       "      <td>0.35</td>\n",
       "      <td>0.6699 ± 0.0437</td>\n",
       "      <td>0.7525 ± 0.0553</td>\n",
       "      <td>0.7069 ± 0.0333</td>\n",
       "      <td>0.7750 +- 0.0356</td>\n",
       "    </tr>\n",
       "    <tr>\n",
       "      <th>7</th>\n",
       "      <td>0.40</td>\n",
       "      <td>0.6691 ± 0.0391</td>\n",
       "      <td>0.6695 ± 0.0363</td>\n",
       "      <td>0.6679 ± 0.0224</td>\n",
       "      <td>0.7445 +- 0.0245</td>\n",
       "    </tr>\n",
       "    <tr>\n",
       "      <th>8</th>\n",
       "      <td>0.45</td>\n",
       "      <td>0.6767 ± 0.0349</td>\n",
       "      <td>0.6255 ± 0.0626</td>\n",
       "      <td>0.6474 ± 0.0320</td>\n",
       "      <td>0.7317 +- 0.0282</td>\n",
       "    </tr>\n",
       "    <tr>\n",
       "      <th>9</th>\n",
       "      <td>0.50</td>\n",
       "      <td>0.6870 ± 0.0335</td>\n",
       "      <td>0.5842 ± 0.0567</td>\n",
       "      <td>0.6291 ± 0.0312</td>\n",
       "      <td>0.7201 +- 0.0255</td>\n",
       "    </tr>\n",
       "  </tbody>\n",
       "</table>\n",
       "</div>"
      ],
      "text/plain": [
       "   Threshold        Precision           Recall         F1 score  \\\n",
       "0       0.05  0.3958 ± 0.0267  0.9928 ± 0.0072  0.5654 ± 0.0272   \n",
       "1       0.10  0.4629 ± 0.0179  0.9783 ± 0.0299  0.6281 ± 0.0171   \n",
       "2       0.15  0.5103 ± 0.0256  0.9597 ± 0.0342  0.6658 ± 0.0237   \n",
       "3       0.20  0.5598 ± 0.0192  0.9044 ± 0.0372  0.6910 ± 0.0168   \n",
       "4       0.25  0.6042 ± 0.0328  0.8636 ± 0.0559  0.7098 ± 0.0316   \n",
       "5       0.30  0.6407 ± 0.0392  0.8264 ± 0.0473  0.7202 ± 0.0276   \n",
       "6       0.35  0.6699 ± 0.0437  0.7525 ± 0.0553  0.7069 ± 0.0333   \n",
       "7       0.40  0.6691 ± 0.0391  0.6695 ± 0.0363  0.6679 ± 0.0224   \n",
       "8       0.45  0.6767 ± 0.0349  0.6255 ± 0.0626  0.6474 ± 0.0320   \n",
       "9       0.50  0.6870 ± 0.0335  0.5842 ± 0.0567  0.6291 ± 0.0312   \n",
       "\n",
       "                AUC  \n",
       "0  0.5898 +- 0.0150  \n",
       "1  0.6850 +- 0.0190  \n",
       "2  0.7328 +- 0.0259  \n",
       "3  0.7609 +- 0.0288  \n",
       "4  0.7783 +- 0.0393  \n",
       "5  0.7868 +- 0.0335  \n",
       "6  0.7750 +- 0.0356  \n",
       "7  0.7445 +- 0.0245  \n",
       "8  0.7317 +- 0.0282  \n",
       "9  0.7201 +- 0.0255  "
      ]
     },
     "execution_count": 41,
     "metadata": {},
     "output_type": "execute_result"
    }
   ],
   "source": [
    "pd.DataFrame(results, columns=['Threshold', 'Precision', 'Recall', 'F1 score', 'AUC'])"
   ]
  },
  {
   "cell_type": "markdown",
   "id": "a9e1574b",
   "metadata": {},
   "source": [
    "Якщо відштовхуватися від F1 score, то оптимальним буде `threshold = 0.3`."
   ]
  },
  {
   "cell_type": "code",
   "execution_count": 42,
   "id": "86f4d997",
   "metadata": {},
   "outputs": [],
   "source": [
    "model_results['LR with thr=0.3'] = {'Precision': np.mean(precision_scores),\n",
    "                                  'Recall': np.mean(recall_scores),\n",
    "                                  'F1 score': np.mean(f1_scores),\n",
    "                                  'AUC': np.mean(aucs)\n",
    "                                  }"
   ]
  },
  {
   "cell_type": "markdown",
   "id": "58366993",
   "metadata": {},
   "source": [
    "<b>2) SVM</b>"
   ]
  },
  {
   "cell_type": "code",
   "execution_count": 43,
   "id": "6f119012",
   "metadata": {},
   "outputs": [],
   "source": [
    "from sklearn.svm import SVC\n",
    "from mlxtend.plotting import plot_decision_regions\n",
    "from sklearn.model_selection import GridSearchCV"
   ]
  },
  {
   "cell_type": "code",
   "execution_count": 44,
   "id": "4af69eab",
   "metadata": {},
   "outputs": [
    {
     "data": {
      "text/html": [
       "<div>\n",
       "<style scoped>\n",
       "    .dataframe tbody tr th:only-of-type {\n",
       "        vertical-align: middle;\n",
       "    }\n",
       "\n",
       "    .dataframe tbody tr th {\n",
       "        vertical-align: top;\n",
       "    }\n",
       "\n",
       "    .dataframe thead th {\n",
       "        text-align: right;\n",
       "    }\n",
       "</style>\n",
       "<table border=\"1\" class=\"dataframe\">\n",
       "  <thead>\n",
       "    <tr style=\"text-align: right;\">\n",
       "      <th></th>\n",
       "      <th>mean_fit_time</th>\n",
       "      <th>std_fit_time</th>\n",
       "      <th>mean_score_time</th>\n",
       "      <th>std_score_time</th>\n",
       "      <th>param_C</th>\n",
       "      <th>param_kernel</th>\n",
       "      <th>params</th>\n",
       "      <th>split0_test_score</th>\n",
       "      <th>split1_test_score</th>\n",
       "      <th>split2_test_score</th>\n",
       "      <th>split3_test_score</th>\n",
       "      <th>mean_test_score</th>\n",
       "      <th>std_test_score</th>\n",
       "      <th>rank_test_score</th>\n",
       "    </tr>\n",
       "  </thead>\n",
       "  <tbody>\n",
       "    <tr>\n",
       "      <th>0</th>\n",
       "      <td>1.363369</td>\n",
       "      <td>0.113158</td>\n",
       "      <td>0.006156</td>\n",
       "      <td>0.000886</td>\n",
       "      <td>0.5</td>\n",
       "      <td>linear</td>\n",
       "      <td>{'C': 0.5, 'kernel': 'linear'}</td>\n",
       "      <td>0.645161</td>\n",
       "      <td>0.629921</td>\n",
       "      <td>0.661017</td>\n",
       "      <td>0.708661</td>\n",
       "      <td>0.661190</td>\n",
       "      <td>0.029531</td>\n",
       "      <td>11</td>\n",
       "    </tr>\n",
       "    <tr>\n",
       "      <th>1</th>\n",
       "      <td>0.020659</td>\n",
       "      <td>0.003298</td>\n",
       "      <td>0.007249</td>\n",
       "      <td>0.001921</td>\n",
       "      <td>0.5</td>\n",
       "      <td>poly</td>\n",
       "      <td>{'C': 0.5, 'kernel': 'poly'}</td>\n",
       "      <td>0.774194</td>\n",
       "      <td>0.722689</td>\n",
       "      <td>0.700855</td>\n",
       "      <td>0.750000</td>\n",
       "      <td>0.736934</td>\n",
       "      <td>0.027675</td>\n",
       "      <td>8</td>\n",
       "    </tr>\n",
       "    <tr>\n",
       "      <th>2</th>\n",
       "      <td>0.012360</td>\n",
       "      <td>0.004655</td>\n",
       "      <td>0.012523</td>\n",
       "      <td>0.002100</td>\n",
       "      <td>0.5</td>\n",
       "      <td>rbf</td>\n",
       "      <td>{'C': 0.5, 'kernel': 'rbf'}</td>\n",
       "      <td>0.794118</td>\n",
       "      <td>0.758621</td>\n",
       "      <td>0.820144</td>\n",
       "      <td>0.746667</td>\n",
       "      <td>0.779887</td>\n",
       "      <td>0.029064</td>\n",
       "      <td>6</td>\n",
       "    </tr>\n",
       "    <tr>\n",
       "      <th>3</th>\n",
       "      <td>0.025457</td>\n",
       "      <td>0.002440</td>\n",
       "      <td>0.012104</td>\n",
       "      <td>0.001102</td>\n",
       "      <td>0.5</td>\n",
       "      <td>sigmoid</td>\n",
       "      <td>{'C': 0.5, 'kernel': 'sigmoid'}</td>\n",
       "      <td>0.050847</td>\n",
       "      <td>0.035714</td>\n",
       "      <td>0.016667</td>\n",
       "      <td>0.019231</td>\n",
       "      <td>0.030615</td>\n",
       "      <td>0.013780</td>\n",
       "      <td>15</td>\n",
       "    </tr>\n",
       "    <tr>\n",
       "      <th>4</th>\n",
       "      <td>2.930663</td>\n",
       "      <td>0.513752</td>\n",
       "      <td>0.005762</td>\n",
       "      <td>0.001283</td>\n",
       "      <td>1</td>\n",
       "      <td>linear</td>\n",
       "      <td>{'C': 1, 'kernel': 'linear'}</td>\n",
       "      <td>0.650407</td>\n",
       "      <td>0.629921</td>\n",
       "      <td>0.661017</td>\n",
       "      <td>0.714286</td>\n",
       "      <td>0.663908</td>\n",
       "      <td>0.031160</td>\n",
       "      <td>9</td>\n",
       "    </tr>\n",
       "    <tr>\n",
       "      <th>5</th>\n",
       "      <td>0.028050</td>\n",
       "      <td>0.011773</td>\n",
       "      <td>0.006792</td>\n",
       "      <td>0.003130</td>\n",
       "      <td>1</td>\n",
       "      <td>poly</td>\n",
       "      <td>{'C': 1, 'kernel': 'poly'}</td>\n",
       "      <td>0.786885</td>\n",
       "      <td>0.737705</td>\n",
       "      <td>0.774194</td>\n",
       "      <td>0.757143</td>\n",
       "      <td>0.763982</td>\n",
       "      <td>0.018480</td>\n",
       "      <td>7</td>\n",
       "    </tr>\n",
       "    <tr>\n",
       "      <th>6</th>\n",
       "      <td>0.010791</td>\n",
       "      <td>0.003752</td>\n",
       "      <td>0.011464</td>\n",
       "      <td>0.003868</td>\n",
       "      <td>1</td>\n",
       "      <td>rbf</td>\n",
       "      <td>{'C': 1, 'kernel': 'rbf'}</td>\n",
       "      <td>0.814815</td>\n",
       "      <td>0.769231</td>\n",
       "      <td>0.820144</td>\n",
       "      <td>0.751678</td>\n",
       "      <td>0.788967</td>\n",
       "      <td>0.029241</td>\n",
       "      <td>4</td>\n",
       "    </tr>\n",
       "    <tr>\n",
       "      <th>7</th>\n",
       "      <td>0.028137</td>\n",
       "      <td>0.003849</td>\n",
       "      <td>0.010996</td>\n",
       "      <td>0.001794</td>\n",
       "      <td>1</td>\n",
       "      <td>sigmoid</td>\n",
       "      <td>{'C': 1, 'kernel': 'sigmoid'}</td>\n",
       "      <td>0.046512</td>\n",
       "      <td>0.031746</td>\n",
       "      <td>0.015152</td>\n",
       "      <td>0.017699</td>\n",
       "      <td>0.027777</td>\n",
       "      <td>0.012527</td>\n",
       "      <td>16</td>\n",
       "    </tr>\n",
       "    <tr>\n",
       "      <th>8</th>\n",
       "      <td>5.914156</td>\n",
       "      <td>1.047449</td>\n",
       "      <td>0.007543</td>\n",
       "      <td>0.000524</td>\n",
       "      <td>2</td>\n",
       "      <td>linear</td>\n",
       "      <td>{'C': 2, 'kernel': 'linear'}</td>\n",
       "      <td>0.645161</td>\n",
       "      <td>0.608000</td>\n",
       "      <td>0.666667</td>\n",
       "      <td>0.720000</td>\n",
       "      <td>0.659957</td>\n",
       "      <td>0.040524</td>\n",
       "      <td>12</td>\n",
       "    </tr>\n",
       "    <tr>\n",
       "      <th>9</th>\n",
       "      <td>0.034402</td>\n",
       "      <td>0.004818</td>\n",
       "      <td>0.007631</td>\n",
       "      <td>0.000847</td>\n",
       "      <td>2</td>\n",
       "      <td>poly</td>\n",
       "      <td>{'C': 2, 'kernel': 'poly'}</td>\n",
       "      <td>0.790323</td>\n",
       "      <td>0.761905</td>\n",
       "      <td>0.800000</td>\n",
       "      <td>0.785714</td>\n",
       "      <td>0.784485</td>\n",
       "      <td>0.014019</td>\n",
       "      <td>5</td>\n",
       "    </tr>\n",
       "    <tr>\n",
       "      <th>10</th>\n",
       "      <td>0.015982</td>\n",
       "      <td>0.000099</td>\n",
       "      <td>0.014800</td>\n",
       "      <td>0.001380</td>\n",
       "      <td>2</td>\n",
       "      <td>rbf</td>\n",
       "      <td>{'C': 2, 'kernel': 'rbf'}</td>\n",
       "      <td>0.818182</td>\n",
       "      <td>0.776978</td>\n",
       "      <td>0.820144</td>\n",
       "      <td>0.761905</td>\n",
       "      <td>0.794302</td>\n",
       "      <td>0.025435</td>\n",
       "      <td>3</td>\n",
       "    </tr>\n",
       "    <tr>\n",
       "      <th>11</th>\n",
       "      <td>0.028823</td>\n",
       "      <td>0.000640</td>\n",
       "      <td>0.012254</td>\n",
       "      <td>0.000727</td>\n",
       "      <td>2</td>\n",
       "      <td>sigmoid</td>\n",
       "      <td>{'C': 2, 'kernel': 'sigmoid'}</td>\n",
       "      <td>0.044776</td>\n",
       "      <td>0.045113</td>\n",
       "      <td>0.014599</td>\n",
       "      <td>0.034188</td>\n",
       "      <td>0.034669</td>\n",
       "      <td>0.012392</td>\n",
       "      <td>13</td>\n",
       "    </tr>\n",
       "    <tr>\n",
       "      <th>12</th>\n",
       "      <td>14.021698</td>\n",
       "      <td>2.701617</td>\n",
       "      <td>0.007251</td>\n",
       "      <td>0.000428</td>\n",
       "      <td>5</td>\n",
       "      <td>linear</td>\n",
       "      <td>{'C': 5, 'kernel': 'linear'}</td>\n",
       "      <td>0.650407</td>\n",
       "      <td>0.625000</td>\n",
       "      <td>0.666667</td>\n",
       "      <td>0.708661</td>\n",
       "      <td>0.662684</td>\n",
       "      <td>0.030416</td>\n",
       "      <td>10</td>\n",
       "    </tr>\n",
       "    <tr>\n",
       "      <th>13</th>\n",
       "      <td>0.057820</td>\n",
       "      <td>0.011111</td>\n",
       "      <td>0.006256</td>\n",
       "      <td>0.001481</td>\n",
       "      <td>5</td>\n",
       "      <td>poly</td>\n",
       "      <td>{'C': 5, 'kernel': 'poly'}</td>\n",
       "      <td>0.825397</td>\n",
       "      <td>0.752000</td>\n",
       "      <td>0.812500</td>\n",
       "      <td>0.794118</td>\n",
       "      <td>0.796004</td>\n",
       "      <td>0.027731</td>\n",
       "      <td>2</td>\n",
       "    </tr>\n",
       "    <tr>\n",
       "      <th>14</th>\n",
       "      <td>0.015433</td>\n",
       "      <td>0.005103</td>\n",
       "      <td>0.013266</td>\n",
       "      <td>0.002467</td>\n",
       "      <td>5</td>\n",
       "      <td>rbf</td>\n",
       "      <td>{'C': 5, 'kernel': 'rbf'}</td>\n",
       "      <td>0.818182</td>\n",
       "      <td>0.782609</td>\n",
       "      <td>0.836879</td>\n",
       "      <td>0.761905</td>\n",
       "      <td>0.799894</td>\n",
       "      <td>0.029344</td>\n",
       "      <td>1</td>\n",
       "    </tr>\n",
       "    <tr>\n",
       "      <th>15</th>\n",
       "      <td>0.028670</td>\n",
       "      <td>0.000906</td>\n",
       "      <td>0.012265</td>\n",
       "      <td>0.000427</td>\n",
       "      <td>5</td>\n",
       "      <td>sigmoid</td>\n",
       "      <td>{'C': 5, 'kernel': 'sigmoid'}</td>\n",
       "      <td>0.044118</td>\n",
       "      <td>0.044776</td>\n",
       "      <td>0.014184</td>\n",
       "      <td>0.033898</td>\n",
       "      <td>0.034244</td>\n",
       "      <td>0.012358</td>\n",
       "      <td>14</td>\n",
       "    </tr>\n",
       "  </tbody>\n",
       "</table>\n",
       "</div>"
      ],
      "text/plain": [
       "    mean_fit_time  std_fit_time  mean_score_time  std_score_time param_C  \\\n",
       "0        1.363369      0.113158         0.006156        0.000886     0.5   \n",
       "1        0.020659      0.003298         0.007249        0.001921     0.5   \n",
       "2        0.012360      0.004655         0.012523        0.002100     0.5   \n",
       "3        0.025457      0.002440         0.012104        0.001102     0.5   \n",
       "4        2.930663      0.513752         0.005762        0.001283       1   \n",
       "5        0.028050      0.011773         0.006792        0.003130       1   \n",
       "6        0.010791      0.003752         0.011464        0.003868       1   \n",
       "7        0.028137      0.003849         0.010996        0.001794       1   \n",
       "8        5.914156      1.047449         0.007543        0.000524       2   \n",
       "9        0.034402      0.004818         0.007631        0.000847       2   \n",
       "10       0.015982      0.000099         0.014800        0.001380       2   \n",
       "11       0.028823      0.000640         0.012254        0.000727       2   \n",
       "12      14.021698      2.701617         0.007251        0.000428       5   \n",
       "13       0.057820      0.011111         0.006256        0.001481       5   \n",
       "14       0.015433      0.005103         0.013266        0.002467       5   \n",
       "15       0.028670      0.000906         0.012265        0.000427       5   \n",
       "\n",
       "   param_kernel                           params  split0_test_score  \\\n",
       "0        linear   {'C': 0.5, 'kernel': 'linear'}           0.645161   \n",
       "1          poly     {'C': 0.5, 'kernel': 'poly'}           0.774194   \n",
       "2           rbf      {'C': 0.5, 'kernel': 'rbf'}           0.794118   \n",
       "3       sigmoid  {'C': 0.5, 'kernel': 'sigmoid'}           0.050847   \n",
       "4        linear     {'C': 1, 'kernel': 'linear'}           0.650407   \n",
       "5          poly       {'C': 1, 'kernel': 'poly'}           0.786885   \n",
       "6           rbf        {'C': 1, 'kernel': 'rbf'}           0.814815   \n",
       "7       sigmoid    {'C': 1, 'kernel': 'sigmoid'}           0.046512   \n",
       "8        linear     {'C': 2, 'kernel': 'linear'}           0.645161   \n",
       "9          poly       {'C': 2, 'kernel': 'poly'}           0.790323   \n",
       "10          rbf        {'C': 2, 'kernel': 'rbf'}           0.818182   \n",
       "11      sigmoid    {'C': 2, 'kernel': 'sigmoid'}           0.044776   \n",
       "12       linear     {'C': 5, 'kernel': 'linear'}           0.650407   \n",
       "13         poly       {'C': 5, 'kernel': 'poly'}           0.825397   \n",
       "14          rbf        {'C': 5, 'kernel': 'rbf'}           0.818182   \n",
       "15      sigmoid    {'C': 5, 'kernel': 'sigmoid'}           0.044118   \n",
       "\n",
       "    split1_test_score  split2_test_score  split3_test_score  mean_test_score  \\\n",
       "0            0.629921           0.661017           0.708661         0.661190   \n",
       "1            0.722689           0.700855           0.750000         0.736934   \n",
       "2            0.758621           0.820144           0.746667         0.779887   \n",
       "3            0.035714           0.016667           0.019231         0.030615   \n",
       "4            0.629921           0.661017           0.714286         0.663908   \n",
       "5            0.737705           0.774194           0.757143         0.763982   \n",
       "6            0.769231           0.820144           0.751678         0.788967   \n",
       "7            0.031746           0.015152           0.017699         0.027777   \n",
       "8            0.608000           0.666667           0.720000         0.659957   \n",
       "9            0.761905           0.800000           0.785714         0.784485   \n",
       "10           0.776978           0.820144           0.761905         0.794302   \n",
       "11           0.045113           0.014599           0.034188         0.034669   \n",
       "12           0.625000           0.666667           0.708661         0.662684   \n",
       "13           0.752000           0.812500           0.794118         0.796004   \n",
       "14           0.782609           0.836879           0.761905         0.799894   \n",
       "15           0.044776           0.014184           0.033898         0.034244   \n",
       "\n",
       "    std_test_score  rank_test_score  \n",
       "0         0.029531               11  \n",
       "1         0.027675                8  \n",
       "2         0.029064                6  \n",
       "3         0.013780               15  \n",
       "4         0.031160                9  \n",
       "5         0.018480                7  \n",
       "6         0.029241                4  \n",
       "7         0.012527               16  \n",
       "8         0.040524               12  \n",
       "9         0.014019                5  \n",
       "10        0.025435                3  \n",
       "11        0.012392               13  \n",
       "12        0.030416               10  \n",
       "13        0.027731                2  \n",
       "14        0.029344                1  \n",
       "15        0.012358               14  "
      ]
     },
     "execution_count": 44,
     "metadata": {},
     "output_type": "execute_result"
    }
   ],
   "source": [
    "svm = SVC()\n",
    "\n",
    "# ініціалізуємо список параметрів, які будемо перебирати\n",
    "params_grid = {\n",
    "    'kernel': ['linear', 'poly', 'rbf', 'sigmoid'],\n",
    "    'C': [0.5, 1, 2, 5]\n",
    "}\n",
    "\n",
    "# шукаємо оптимальні значення параметрів\n",
    "clf = GridSearchCV(\n",
    "    estimator=svm,\n",
    "    param_grid=params_grid,\n",
    "    scoring='f1',\n",
    "    cv=4\n",
    ")\n",
    "\n",
    "clf = clf.fit(X, y)\n",
    "grid_search_results = pd.DataFrame(clf.cv_results_)\n",
    "\n",
    "grid_search_results"
   ]
  },
  {
   "cell_type": "markdown",
   "id": "40afafe6",
   "metadata": {},
   "source": [
    "Параметри `{'C': 5, 'kernel': 'rbf'}` дали найкращий результат `f1_score = 0.799894\t+- 0.029344`. Але спробуємо ще декілька інших паметрів. Також помітимо, що значення kernel linear та sigmoid дали найгірші результати, тому приберемо їх з параметрів, щоб пришвидшити час пошуку. "
   ]
  },
  {
   "cell_type": "code",
   "execution_count": 45,
   "id": "89979286",
   "metadata": {},
   "outputs": [
    {
     "data": {
      "text/html": [
       "<div>\n",
       "<style scoped>\n",
       "    .dataframe tbody tr th:only-of-type {\n",
       "        vertical-align: middle;\n",
       "    }\n",
       "\n",
       "    .dataframe tbody tr th {\n",
       "        vertical-align: top;\n",
       "    }\n",
       "\n",
       "    .dataframe thead th {\n",
       "        text-align: right;\n",
       "    }\n",
       "</style>\n",
       "<table border=\"1\" class=\"dataframe\">\n",
       "  <thead>\n",
       "    <tr style=\"text-align: right;\">\n",
       "      <th></th>\n",
       "      <th>mean_fit_time</th>\n",
       "      <th>std_fit_time</th>\n",
       "      <th>mean_score_time</th>\n",
       "      <th>std_score_time</th>\n",
       "      <th>param_C</th>\n",
       "      <th>param_kernel</th>\n",
       "      <th>params</th>\n",
       "      <th>split0_test_score</th>\n",
       "      <th>split1_test_score</th>\n",
       "      <th>split2_test_score</th>\n",
       "      <th>split3_test_score</th>\n",
       "      <th>mean_test_score</th>\n",
       "      <th>std_test_score</th>\n",
       "      <th>rank_test_score</th>\n",
       "    </tr>\n",
       "  </thead>\n",
       "  <tbody>\n",
       "    <tr>\n",
       "      <th>0</th>\n",
       "      <td>0.061037</td>\n",
       "      <td>0.009354</td>\n",
       "      <td>0.007817</td>\n",
       "      <td>0.000482</td>\n",
       "      <td>7</td>\n",
       "      <td>poly</td>\n",
       "      <td>{'C': 7, 'kernel': 'poly'}</td>\n",
       "      <td>0.816000</td>\n",
       "      <td>0.740157</td>\n",
       "      <td>0.821705</td>\n",
       "      <td>0.785185</td>\n",
       "      <td>0.790762</td>\n",
       "      <td>0.032351</td>\n",
       "      <td>5</td>\n",
       "    </tr>\n",
       "    <tr>\n",
       "      <th>1</th>\n",
       "      <td>0.016754</td>\n",
       "      <td>0.000790</td>\n",
       "      <td>0.013676</td>\n",
       "      <td>0.001347</td>\n",
       "      <td>7</td>\n",
       "      <td>rbf</td>\n",
       "      <td>{'C': 7, 'kernel': 'rbf'}</td>\n",
       "      <td>0.818182</td>\n",
       "      <td>0.788321</td>\n",
       "      <td>0.836879</td>\n",
       "      <td>0.761905</td>\n",
       "      <td>0.801322</td>\n",
       "      <td>0.028598</td>\n",
       "      <td>2</td>\n",
       "    </tr>\n",
       "    <tr>\n",
       "      <th>2</th>\n",
       "      <td>0.079160</td>\n",
       "      <td>0.016262</td>\n",
       "      <td>0.008129</td>\n",
       "      <td>0.002937</td>\n",
       "      <td>10</td>\n",
       "      <td>poly</td>\n",
       "      <td>{'C': 10, 'kernel': 'poly'}</td>\n",
       "      <td>0.828125</td>\n",
       "      <td>0.730159</td>\n",
       "      <td>0.821705</td>\n",
       "      <td>0.785185</td>\n",
       "      <td>0.791294</td>\n",
       "      <td>0.038911</td>\n",
       "      <td>4</td>\n",
       "    </tr>\n",
       "    <tr>\n",
       "      <th>3</th>\n",
       "      <td>0.017491</td>\n",
       "      <td>0.000894</td>\n",
       "      <td>0.012247</td>\n",
       "      <td>0.000394</td>\n",
       "      <td>10</td>\n",
       "      <td>rbf</td>\n",
       "      <td>{'C': 10, 'kernel': 'rbf'}</td>\n",
       "      <td>0.824427</td>\n",
       "      <td>0.788321</td>\n",
       "      <td>0.836879</td>\n",
       "      <td>0.761905</td>\n",
       "      <td>0.802883</td>\n",
       "      <td>0.029628</td>\n",
       "      <td>1</td>\n",
       "    </tr>\n",
       "    <tr>\n",
       "      <th>4</th>\n",
       "      <td>0.111203</td>\n",
       "      <td>0.010598</td>\n",
       "      <td>0.007238</td>\n",
       "      <td>0.000831</td>\n",
       "      <td>20</td>\n",
       "      <td>poly</td>\n",
       "      <td>{'C': 20, 'kernel': 'poly'}</td>\n",
       "      <td>0.834646</td>\n",
       "      <td>0.730159</td>\n",
       "      <td>0.821705</td>\n",
       "      <td>0.761194</td>\n",
       "      <td>0.786926</td>\n",
       "      <td>0.042929</td>\n",
       "      <td>6</td>\n",
       "    </tr>\n",
       "    <tr>\n",
       "      <th>5</th>\n",
       "      <td>0.017492</td>\n",
       "      <td>0.000875</td>\n",
       "      <td>0.012935</td>\n",
       "      <td>0.000624</td>\n",
       "      <td>20</td>\n",
       "      <td>rbf</td>\n",
       "      <td>{'C': 20, 'kernel': 'rbf'}</td>\n",
       "      <td>0.824427</td>\n",
       "      <td>0.763359</td>\n",
       "      <td>0.838235</td>\n",
       "      <td>0.770270</td>\n",
       "      <td>0.799073</td>\n",
       "      <td>0.032717</td>\n",
       "      <td>3</td>\n",
       "    </tr>\n",
       "  </tbody>\n",
       "</table>\n",
       "</div>"
      ],
      "text/plain": [
       "   mean_fit_time  std_fit_time  mean_score_time  std_score_time param_C  \\\n",
       "0       0.061037      0.009354         0.007817        0.000482       7   \n",
       "1       0.016754      0.000790         0.013676        0.001347       7   \n",
       "2       0.079160      0.016262         0.008129        0.002937      10   \n",
       "3       0.017491      0.000894         0.012247        0.000394      10   \n",
       "4       0.111203      0.010598         0.007238        0.000831      20   \n",
       "5       0.017492      0.000875         0.012935        0.000624      20   \n",
       "\n",
       "  param_kernel                       params  split0_test_score  \\\n",
       "0         poly   {'C': 7, 'kernel': 'poly'}           0.816000   \n",
       "1          rbf    {'C': 7, 'kernel': 'rbf'}           0.818182   \n",
       "2         poly  {'C': 10, 'kernel': 'poly'}           0.828125   \n",
       "3          rbf   {'C': 10, 'kernel': 'rbf'}           0.824427   \n",
       "4         poly  {'C': 20, 'kernel': 'poly'}           0.834646   \n",
       "5          rbf   {'C': 20, 'kernel': 'rbf'}           0.824427   \n",
       "\n",
       "   split1_test_score  split2_test_score  split3_test_score  mean_test_score  \\\n",
       "0           0.740157           0.821705           0.785185         0.790762   \n",
       "1           0.788321           0.836879           0.761905         0.801322   \n",
       "2           0.730159           0.821705           0.785185         0.791294   \n",
       "3           0.788321           0.836879           0.761905         0.802883   \n",
       "4           0.730159           0.821705           0.761194         0.786926   \n",
       "5           0.763359           0.838235           0.770270         0.799073   \n",
       "\n",
       "   std_test_score  rank_test_score  \n",
       "0        0.032351                5  \n",
       "1        0.028598                2  \n",
       "2        0.038911                4  \n",
       "3        0.029628                1  \n",
       "4        0.042929                6  \n",
       "5        0.032717                3  "
      ]
     },
     "execution_count": 45,
     "metadata": {},
     "output_type": "execute_result"
    }
   ],
   "source": [
    "svm = SVC()\n",
    "\n",
    "# ініціалізуємо список параметрів, які будемо перебирати\n",
    "params_grid = {\n",
    "    'kernel': ['poly', 'rbf'],\n",
    "    'C': [7, 10, 20]\n",
    "}\n",
    "\n",
    "# шукаємо оптимальні значення параметрів\n",
    "clf = GridSearchCV(\n",
    "    estimator=svm,\n",
    "    param_grid=params_grid,\n",
    "    scoring='f1',\n",
    "    cv=4\n",
    ")\n",
    "\n",
    "clf = clf.fit(X, y)\n",
    "grid_search_results = pd.DataFrame(clf.cv_results_)\n",
    "\n",
    "grid_search_results"
   ]
  },
  {
   "cell_type": "markdown",
   "id": "625ac6d9",
   "metadata": {},
   "source": [
    "Отже, `{'C': 10, 'kernel': 'rbf'}` виявилися найкращими за результатами GridSearchCV, `f1_score = 0.802883 +- 0.029628`"
   ]
  },
  {
   "cell_type": "markdown",
   "id": "f2e47660",
   "metadata": {},
   "source": [
    "Оберемо ці параметри і проведемо крос-валідацію для оцінки нашої моделі:"
   ]
  },
  {
   "cell_type": "code",
   "execution_count": 46,
   "id": "228f283d",
   "metadata": {},
   "outputs": [],
   "source": [
    "def cv_svc(X, y):\n",
    "    precisions, recalls, f1s, aucs = [], [], [], []\n",
    "    for train_idx, test_idx in kf.split(X):\n",
    "        X_train, y_train = X.loc[train_idx], y[train_idx]\n",
    "        X_test, y_test = X.loc[test_idx], y[test_idx]\n",
    "        \n",
    "        svc = SVC(kernel='rbf', C=10, random_state=42).fit(X_train, y_train)\n",
    "        \n",
    "        y_pred = svc.predict(X_test)\n",
    "        \n",
    "        precisions.append(precision_score(y_test, y_pred))\n",
    "        recalls.append(recall_score(y_test, y_pred))\n",
    "        f1s.append(f1_score(y_test, y_pred))\n",
    "        aucs.append(roc_auc_score(y_test, y_pred))\n",
    "        \n",
    "    avg_precision = sum(precisions)/kf.n_splits\n",
    "    avg_recall = sum(recalls)/kf.n_splits\n",
    "    avg_f1 = sum(f1s)/kf.n_splits\n",
    "    avg_auc = sum(aucs)/kf.n_splits\n",
    "        \n",
    "    return [avg_precision, avg_recall, avg_f1, avg_auc]"
   ]
  },
  {
   "cell_type": "code",
   "execution_count": 47,
   "id": "1d684350",
   "metadata": {},
   "outputs": [
    {
     "name": "stdout",
     "output_type": "stream",
     "text": [
      "Average Precision: 0.7869756640713501\n",
      "Average Recall: 0.8430743644571157\n",
      "Average F1-score: 0.8140124070471781\n",
      "Average AUC: 0.8605382993389656\n"
     ]
    }
   ],
   "source": [
    "results = cv_svc(X, y)\n",
    "\n",
    "print(f'Average Precision: {results[0]}')\n",
    "print(f'Average Recall: {results[1]}')\n",
    "print(f'Average F1-score: {results[2]}')\n",
    "print(f'Average AUC: {results[3]}')"
   ]
  },
  {
   "cell_type": "code",
   "execution_count": 48,
   "id": "594385cd",
   "metadata": {},
   "outputs": [],
   "source": [
    "model_results['SVC'] = {'Precision': results[0],\n",
    "                                  'Recall': results[1],\n",
    "                                  'F1 score': results[2],\n",
    "                                  'AUC': results[3]\n",
    "                                  }"
   ]
  },
  {
   "cell_type": "markdown",
   "id": "0ca398c6",
   "metadata": {},
   "source": [
    "<b>3) KMeans</b>"
   ]
  },
  {
   "cell_type": "code",
   "execution_count": 49,
   "id": "d5a837a1",
   "metadata": {},
   "outputs": [],
   "source": [
    "from sklearn.cluster import KMeans\n",
    "from sklearn.metrics import confusion_matrix, classification_report\n",
    "\n",
    "km = KMeans(\n",
    "    n_clusters=2,\n",
    "    n_init=10,\n",
    "    random_state=42\n",
    ")\n",
    "\n",
    "km = km.fit(X)\n",
    "y_pred = km.predict(X)\n",
    "\n",
    "class_report = classification_report(y, y_pred)"
   ]
  },
  {
   "cell_type": "code",
   "execution_count": 50,
   "id": "6162f9ca",
   "metadata": {},
   "outputs": [
    {
     "name": "stdout",
     "output_type": "stream",
     "text": [
      "              precision    recall  f1-score   support\n",
      "\n",
      "           0       0.66      0.95      0.78       500\n",
      "           1       0.52      0.11      0.18       268\n",
      "\n",
      "    accuracy                           0.65       768\n",
      "   macro avg       0.59      0.53      0.48       768\n",
      "weighted avg       0.61      0.65      0.57       768\n",
      "\n"
     ]
    }
   ],
   "source": [
    "print(class_report)"
   ]
  },
  {
   "cell_type": "code",
   "execution_count": 51,
   "id": "9763895b",
   "metadata": {},
   "outputs": [
    {
     "data": {
      "text/plain": [
       "<sklearn.metrics._plot.confusion_matrix.ConfusionMatrixDisplay at 0x21bd0997ac0>"
      ]
     },
     "execution_count": 51,
     "metadata": {},
     "output_type": "execute_result"
    },
    {
     "data": {
      "image/png": "[encoded data removed]",
      "text/plain": [
       "<Figure size 640x480 with 2 Axes>"
      ]
     },
     "metadata": {},
     "output_type": "display_data"
    }
   ],
   "source": [
    "from sklearn.metrics import ConfusionMatrixDisplay\n",
    "\n",
    "cm = confusion_matrix(y, y_pred)\n",
    "\n",
    "labels = ['negative', 'positive']\n",
    "cm_display = ConfusionMatrixDisplay(confusion_matrix=cm, display_labels=labels)\n",
    "cm_display.plot(cmap=plt.cm.Greens)"
   ]
  },
  {
   "cell_type": "code",
   "execution_count": 52,
   "id": "92acac0f",
   "metadata": {},
   "outputs": [
    {
     "name": "stdout",
     "output_type": "stream",
     "text": [
      "Precision: 0.5178571428571429\n",
      "Recall: 0.10820895522388059\n",
      "F1-score: 0.17901234567901234\n"
     ]
    }
   ],
   "source": [
    "precision = precision_score(y, y_pred)\n",
    "recall = recall_score(y, y_pred)\n",
    "f1 = f1_score(y, y_pred)\n",
    "\n",
    "print(f'Precision: {precision}')\n",
    "print(f'Recall: {recall}')\n",
    "print(f'F1-score: {f1}')"
   ]
  },
  {
   "cell_type": "markdown",
   "id": "70508730",
   "metadata": {},
   "source": [
    "Бачимо, що результат вийшов не дуже змістовним. Особливо у сенсі хибнонегативниї помилок.  \n",
    "Можливо, справа в тому, що колонка \"Insulin\" мала багато нерелавантних нулів, які були замінені медіанними значеннями для кожної групи. Тому спробуємо видалити цю колонку."
   ]
  },
  {
   "cell_type": "code",
   "execution_count": 53,
   "id": "689d6fc3",
   "metadata": {},
   "outputs": [],
   "source": [
    "X_kmeans = X.drop([\"Insulin\"], axis=1, inplace=False)"
   ]
  },
  {
   "cell_type": "code",
   "execution_count": 54,
   "id": "3efbae7e",
   "metadata": {},
   "outputs": [],
   "source": [
    "km = KMeans(\n",
    "    n_clusters=2,\n",
    "    n_init=10,\n",
    "    random_state=42\n",
    ")\n",
    "\n",
    "km = km.fit(X_kmeans)\n",
    "y_pred = km.predict(X_kmeans)\n",
    "\n",
    "class_report = classification_report(y, y_pred)"
   ]
  },
  {
   "cell_type": "code",
   "execution_count": 55,
   "id": "c25f47d8",
   "metadata": {},
   "outputs": [
    {
     "name": "stdout",
     "output_type": "stream",
     "text": [
      "              precision    recall  f1-score   support\n",
      "\n",
      "           0       0.80      0.81      0.81       500\n",
      "           1       0.64      0.63      0.64       268\n",
      "\n",
      "    accuracy                           0.75       768\n",
      "   macro avg       0.72      0.72      0.72       768\n",
      "weighted avg       0.75      0.75      0.75       768\n",
      "\n"
     ]
    }
   ],
   "source": [
    "print(class_report)"
   ]
  },
  {
   "cell_type": "code",
   "execution_count": 56,
   "id": "6ad4038f",
   "metadata": {},
   "outputs": [
    {
     "data": {
      "text/plain": [
       "<sklearn.metrics._plot.confusion_matrix.ConfusionMatrixDisplay at 0x21bd0a96260>"
      ]
     },
     "execution_count": 56,
     "metadata": {},
     "output_type": "execute_result"
    },
    {
     "data": {
      "image/png": "[encoded data removed]",
      "text/plain": [
       "<Figure size 640x480 with 2 Axes>"
      ]
     },
     "metadata": {},
     "output_type": "display_data"
    }
   ],
   "source": [
    "cm = confusion_matrix(y, y_pred)\n",
    "\n",
    "labels = ['negative', 'positive']\n",
    "cm_display = ConfusionMatrixDisplay(confusion_matrix=cm, display_labels=labels)\n",
    "cm_display.plot(cmap=plt.cm.Greens)"
   ]
  },
  {
   "cell_type": "code",
   "execution_count": 57,
   "id": "9230be9b",
   "metadata": {},
   "outputs": [
    {
     "name": "stdout",
     "output_type": "stream",
     "text": [
      "Precision: 0.6390977443609023\n",
      "Recall: 0.6343283582089553\n",
      "F1-score: 0.6367041198501873\n",
      "AUC: 0.7211641791044777\n"
     ]
    }
   ],
   "source": [
    "precision = precision_score(y, y_pred)\n",
    "recall = recall_score(y, y_pred)\n",
    "f1 = f1_score(y, y_pred)\n",
    "auc = roc_auc_score(y, y_pred)\n",
    "\n",
    "print(f'Precision: {precision}')\n",
    "print(f'Recall: {recall}')\n",
    "print(f'F1-score: {f1}')\n",
    "print(f'AUC: {auc}')"
   ]
  },
  {
   "cell_type": "code",
   "execution_count": 62,
   "id": "68509663",
   "metadata": {},
   "outputs": [],
   "source": [
    "model_results['KMeans'] = {'Precision': precision,\n",
    "                        'Recall': recall,\n",
    "                        'F1 score': f1,\n",
    "                        'AUC': auc\n",
    "                        }"
   ]
  },
  {
   "cell_type": "markdown",
   "id": "7519341e",
   "metadata": {},
   "source": [
    "Справді, отримано вже кращі результати. Була зменшена кількість хибнонегативних помилок, які у нашому дослідженні \"гірші\" за хибнопозитивні помилки."
   ]
  },
  {
   "cell_type": "markdown",
   "id": "f827a573",
   "metadata": {},
   "source": [
    "<b>4) NBC</b>"
   ]
  },
  {
   "cell_type": "code",
   "execution_count": 63,
   "id": "2221787d",
   "metadata": {},
   "outputs": [],
   "source": [
    "from sklearn.naive_bayes import GaussianNB\n",
    "\n",
    "def cv_nbc(X, y):\n",
    "    precisions, recalls, f1s, aucs = [], [], [], []\n",
    "    for train_idx, test_idx in kf.split(X):\n",
    "        X_train, y_train = X.loc[train_idx], y[train_idx]\n",
    "        X_test, y_test = X.loc[test_idx], y[test_idx]\n",
    "        \n",
    "        nbc = GaussianNB().fit(X_train, y_train)\n",
    "        y_pred = nbc.predict(X_test)\n",
    "        \n",
    "        precisions.append(precision_score(y_test, y_pred))\n",
    "        recalls.append(recall_score(y_test, y_pred))\n",
    "        f1s.append(f1_score(y_test, y_pred))\n",
    "        aucs.append(roc_auc_score(y_test, y_pred))\n",
    "        \n",
    "    avg_precision = sum(precisions)/kf.n_splits\n",
    "    avg_recall = sum(recalls)/kf.n_splits\n",
    "    avg_f1 = sum(f1s)/kf.n_splits\n",
    "    avg_auc = sum(aucs)/kf.n_splits\n",
    "        \n",
    "    return [avg_precision, avg_recall, avg_f1, avg_auc]\n"
   ]
  },
  {
   "cell_type": "code",
   "execution_count": 64,
   "id": "f5505979",
   "metadata": {},
   "outputs": [
    {
     "name": "stdout",
     "output_type": "stream",
     "text": [
      "Average Precision: 0.6687646370023419\n",
      "Average Recall: 0.6291280589213589\n",
      "Average F1-score: 0.6465076641500801\n",
      "Average AUC: 0.7304394095885266\n"
     ]
    }
   ],
   "source": [
    "results = cv_nbc(X, y)\n",
    "\n",
    "print(f'Average Precision: {results[0]}')\n",
    "print(f'Average Recall: {results[1]}')\n",
    "print(f'Average F1-score: {results[2]}')\n",
    "print(f'Average AUC: {results[3]}')"
   ]
  },
  {
   "cell_type": "code",
   "execution_count": 65,
   "id": "e5431917",
   "metadata": {},
   "outputs": [],
   "source": [
    "model_results['NBC'] = {'Precision': results[0],\n",
    "                        'Recall': results[1],\n",
    "                        'F1 score': results[2],\n",
    "                        'AUC': results[3]\n",
    "                        }"
   ]
  },
  {
   "cell_type": "markdown",
   "id": "a67c3dd2",
   "metadata": {},
   "source": [
    "<b>5) Decision Tree</b>"
   ]
  },
  {
   "cell_type": "code",
   "execution_count": 66,
   "id": "7682fe20",
   "metadata": {},
   "outputs": [],
   "source": [
    "from sklearn.tree import DecisionTreeClassifier\n",
    "\n",
    "def cv_tree(X, y, max_depth=10):\n",
    "    precisions, recalls, f1s, aucs = [], [], [], []\n",
    "    for train_idx, test_idx in kf.split(X):\n",
    "        X_train, y_train = X.loc[train_idx], y[train_idx]\n",
    "        X_test, y_test = X.loc[test_idx], y[test_idx]\n",
    "        \n",
    "        tree = DecisionTreeClassifier(max_depth=max_depth, random_state=42).fit(X_train, y_train)\n",
    "        y_pred = tree.predict(X_test)\n",
    "        \n",
    "        precisions.append(precision_score(y_test, y_pred))\n",
    "        recalls.append(recall_score(y_test, y_pred))\n",
    "        f1s.append(f1_score(y_test, y_pred))\n",
    "        aucs.append(roc_auc_score(y_test, y_pred))\n",
    "        \n",
    "    avg_precision = sum(precisions)/kf.n_splits\n",
    "    avg_recall = sum(recalls)/kf.n_splits\n",
    "    avg_f1 = sum(f1s)/kf.n_splits\n",
    "    avg_auc = sum(aucs)/kf.n_splits\n",
    "        \n",
    "    return [avg_precision, avg_recall, avg_f1, avg_auc]"
   ]
  },
  {
   "cell_type": "code",
   "execution_count": 67,
   "id": "4dc45512",
   "metadata": {},
   "outputs": [
    {
     "name": "stdout",
     "output_type": "stream",
     "text": [
      "Average Precision: 0.7837322217775682\n",
      "Average Recall: 0.7877761938702779\n",
      "Average F1-score: 0.7849127486718447\n",
      "Average AUC: 0.835689747776075\n"
     ]
    }
   ],
   "source": [
    "results = cv_tree(X, y, max_depth=12)\n",
    "\n",
    "print(f'Average Precision: {results[0]}')\n",
    "print(f'Average Recall: {results[1]}')\n",
    "print(f'Average F1-score: {results[2]}')\n",
    "print(f'Average AUC: {results[3]}')"
   ]
  },
  {
   "cell_type": "code",
   "execution_count": 68,
   "id": "743986e1",
   "metadata": {},
   "outputs": [],
   "source": [
    "model_results['DecisionTreeClassifier'] = {'Precision': results[0],\n",
    "                        'Recall': results[1],\n",
    "                        'F1 score': results[2],\n",
    "                        'AUC': results[3]\n",
    "                        }"
   ]
  },
  {
   "cell_type": "code",
   "execution_count": 69,
   "id": "e371ee85",
   "metadata": {},
   "outputs": [
    {
     "data": {
      "text/plain": [
       "<sklearn.metrics._plot.confusion_matrix.ConfusionMatrixDisplay at 0x21bd0d03df0>"
      ]
     },
     "execution_count": 69,
     "metadata": {},
     "output_type": "execute_result"
    },
    {
     "data": {
      "image/png": "[encoded data removed]",
      "text/plain": [
       "<Figure size 640x480 with 2 Axes>"
      ]
     },
     "metadata": {},
     "output_type": "display_data"
    }
   ],
   "source": [
    "from sklearn.model_selection import cross_val_predict\n",
    "\n",
    "tree = DecisionTreeClassifier(max_depth=12, random_state=42)\n",
    "y_pred = cross_val_predict(tree, X, y, cv=4)\n",
    "cm = confusion_matrix(y, y_pred)\n",
    "\n",
    "labels = ['negative', 'positive']\n",
    "cm_display = ConfusionMatrixDisplay(confusion_matrix=cm, display_labels=labels)\n",
    "cm_display.plot(cmap=plt.cm.Greens)"
   ]
  },
  {
   "cell_type": "markdown",
   "id": "8835303c",
   "metadata": {},
   "source": [
    "<b>6) Random Forest</b>"
   ]
  },
  {
   "cell_type": "code",
   "execution_count": 80,
   "id": "28f25bc3",
   "metadata": {},
   "outputs": [],
   "source": [
    "from sklearn.ensemble import RandomForestClassifier\n",
    "\n",
    "mdl = RandomForestClassifier(\n",
    "            criterion='gini',\n",
    "            max_features=0.8,\n",
    "            bootstrap=True,\n",
    "            max_samples=0.8,\n",
    "            random_state=42\n",
    "        ).fit(X_train, y_train)\n",
    "\n",
    "params_grid = {\n",
    "    'n_estimators': [50, 80, 100, 200],\n",
    "    'max_depth': [3, 5, 10, 15],\n",
    "    'min_samples_split': [2, 5, 10],\n",
    "    'min_samples_leaf': [1, 2, 4]\n",
    "}\n",
    "\n",
    "\n",
    "clf = GridSearchCV(\n",
    "    estimator=mdl,\n",
    "    param_grid=params_grid,\n",
    "    scoring='f1',\n",
    "    cv=4\n",
    ").fit(X, y)"
   ]
  },
  {
   "cell_type": "code",
   "execution_count": 82,
   "id": "e9314886",
   "metadata": {},
   "outputs": [
    {
     "name": "stdout",
     "output_type": "stream",
     "text": [
      "Best parameters:  {'max_depth': 5, 'min_samples_leaf': 1, 'min_samples_split': 2, 'n_estimators': 200}\n",
      "Best F1 score:  0.8429585668940366\n"
     ]
    }
   ],
   "source": [
    "print(\"Best parameters: \", clf.best_params_)\n",
    "print(\"Best F1 score: \", clf.best_score_)"
   ]
  },
  {
   "cell_type": "code",
   "execution_count": 83,
   "id": "2b9428e9",
   "metadata": {},
   "outputs": [],
   "source": [
    "def cv_random_forest(X, y):\n",
    "    precisions, recalls, f1s, aucs = [], [], [], []\n",
    "    for train_idx, test_idx in kf.split(X):\n",
    "        X_train, y_train = X.loc[train_idx], y[train_idx]\n",
    "        X_test, y_test = X.loc[test_idx], y[test_idx]\n",
    "        \n",
    "        mdl = RandomForestClassifier(\n",
    "            n_estimators = 200,\n",
    "            criterion='gini',\n",
    "            max_depth=5,\n",
    "            min_samples_split=2,\n",
    "            min_samples_leaf=1,\n",
    "            max_features=0.8,\n",
    "            bootstrap=True,\n",
    "            max_samples=0.8,\n",
    "            random_state=42\n",
    "        ).fit(X_train, y_train)\n",
    "        \n",
    "        \n",
    "        y_pred = mdl.predict(X_test)\n",
    "        \n",
    "        precisions.append(precision_score(y_test, y_pred))\n",
    "        recalls.append(recall_score(y_test, y_pred))\n",
    "        f1s.append(f1_score(y_test, y_pred))\n",
    "        aucs.append(roc_auc_score(y_test, y_pred))\n",
    "        \n",
    "    avg_precision = sum(precisions)/kf.n_splits\n",
    "    avg_recall = sum(recalls)/kf.n_splits\n",
    "    avg_f1 = sum(f1s)/kf.n_splits\n",
    "    avg_auc = sum(aucs)/kf.n_splits\n",
    "        \n",
    "    return [avg_precision, avg_recall, avg_f1, avg_auc]"
   ]
  },
  {
   "cell_type": "code",
   "execution_count": 84,
   "id": "81048db0",
   "metadata": {},
   "outputs": [
    {
     "name": "stdout",
     "output_type": "stream",
     "text": [
      "Average Precision: 0.8366138763197587\n",
      "Average Recall: 0.842599192207175\n",
      "Average F1-score: 0.838626528971373\n",
      "Average AUC: 0.8761885056797062\n"
     ]
    }
   ],
   "source": [
    "results = cv_random_forest(X, y)\n",
    "\n",
    "print(f'Average Precision: {results[0]}')\n",
    "print(f'Average Recall: {results[1]}')\n",
    "print(f'Average F1-score: {results[2]}')\n",
    "print(f'Average AUC: {results[3]}')"
   ]
  },
  {
   "cell_type": "code",
   "execution_count": 85,
   "id": "09f1af73",
   "metadata": {},
   "outputs": [],
   "source": [
    "model_results['RandomForestClassifier'] = {'Precision': results[0],\n",
    "                                            'Recall': results[1],\n",
    "                                            'F1 score': results[2],\n",
    "                                            'AUC': results[3]\n",
    "                                            }"
   ]
  },
  {
   "cell_type": "code",
   "execution_count": 86,
   "id": "8dd68710",
   "metadata": {
    "scrolled": true
   },
   "outputs": [
    {
     "data": {
      "text/plain": [
       "<sklearn.metrics._plot.confusion_matrix.ConfusionMatrixDisplay at 0x21bd86f7100>"
      ]
     },
     "execution_count": 86,
     "metadata": {},
     "output_type": "execute_result"
    },
    {
     "data": {
      "image/png": "[encoded data removed]",
      "text/plain": [
       "<Figure size 640x480 with 2 Axes>"
      ]
     },
     "metadata": {},
     "output_type": "display_data"
    }
   ],
   "source": [
    "from sklearn.model_selection import cross_val_predict\n",
    "\n",
    "rfc = RandomForestClassifier(\n",
    "            n_estimators = 80,\n",
    "            criterion='gini',\n",
    "            max_depth=3,\n",
    "            min_samples_split=10,\n",
    "            min_samples_leaf=5,\n",
    "            max_features=0.8,\n",
    "            bootstrap=True,\n",
    "            max_samples=0.8,\n",
    "            random_state=42\n",
    "        )\n",
    "y_pred = cross_val_predict(rfc, X, y, cv=4)\n",
    "cm = confusion_matrix(y, y_pred)\n",
    "\n",
    "labels = ['negative', 'positive']\n",
    "cm_display = ConfusionMatrixDisplay(confusion_matrix=cm, display_labels=labels)\n",
    "cm_display.plot(cmap=plt.cm.Greens)"
   ]
  },
  {
   "cell_type": "code",
   "execution_count": 87,
   "id": "7e1da298",
   "metadata": {},
   "outputs": [
    {
     "data": {
      "text/html": [
       "<div>\n",
       "<style scoped>\n",
       "    .dataframe tbody tr th:only-of-type {\n",
       "        vertical-align: middle;\n",
       "    }\n",
       "\n",
       "    .dataframe tbody tr th {\n",
       "        vertical-align: top;\n",
       "    }\n",
       "\n",
       "    .dataframe thead th {\n",
       "        text-align: right;\n",
       "    }\n",
       "</style>\n",
       "<table border=\"1\" class=\"dataframe\">\n",
       "  <thead>\n",
       "    <tr style=\"text-align: right;\">\n",
       "      <th></th>\n",
       "      <th>Precision</th>\n",
       "      <th>Recall</th>\n",
       "      <th>F1 score</th>\n",
       "      <th>AUC</th>\n",
       "    </tr>\n",
       "  </thead>\n",
       "  <tbody>\n",
       "    <tr>\n",
       "      <th>LR with thr=0.3</th>\n",
       "      <td>0.686959</td>\n",
       "      <td>0.584224</td>\n",
       "      <td>0.629130</td>\n",
       "      <td>0.720059</td>\n",
       "    </tr>\n",
       "    <tr>\n",
       "      <th>SVC</th>\n",
       "      <td>0.786976</td>\n",
       "      <td>0.843074</td>\n",
       "      <td>0.814012</td>\n",
       "      <td>0.860538</td>\n",
       "    </tr>\n",
       "    <tr>\n",
       "      <th>KMeans</th>\n",
       "      <td>0.639098</td>\n",
       "      <td>0.634328</td>\n",
       "      <td>0.636704</td>\n",
       "      <td>0.721164</td>\n",
       "    </tr>\n",
       "    <tr>\n",
       "      <th>NBC</th>\n",
       "      <td>0.668765</td>\n",
       "      <td>0.629128</td>\n",
       "      <td>0.646508</td>\n",
       "      <td>0.730439</td>\n",
       "    </tr>\n",
       "    <tr>\n",
       "      <th>DecisionTreeClassifier</th>\n",
       "      <td>0.783732</td>\n",
       "      <td>0.787776</td>\n",
       "      <td>0.784913</td>\n",
       "      <td>0.835690</td>\n",
       "    </tr>\n",
       "    <tr>\n",
       "      <th>RandomForestClassifier</th>\n",
       "      <td>0.836614</td>\n",
       "      <td>0.842599</td>\n",
       "      <td>0.838627</td>\n",
       "      <td>0.876189</td>\n",
       "    </tr>\n",
       "  </tbody>\n",
       "</table>\n",
       "</div>"
      ],
      "text/plain": [
       "                        Precision    Recall  F1 score       AUC\n",
       "LR with thr=0.3          0.686959  0.584224  0.629130  0.720059\n",
       "SVC                      0.786976  0.843074  0.814012  0.860538\n",
       "KMeans                   0.639098  0.634328  0.636704  0.721164\n",
       "NBC                      0.668765  0.629128  0.646508  0.730439\n",
       "DecisionTreeClassifier   0.783732  0.787776  0.784913  0.835690\n",
       "RandomForestClassifier   0.836614  0.842599  0.838627  0.876189"
      ]
     },
     "execution_count": 87,
     "metadata": {},
     "output_type": "execute_result"
    }
   ],
   "source": [
    "results_df = pd.DataFrame.from_dict(model_results, orient='index')\n",
    "results_df"
   ]
  },
  {
   "cell_type": "markdown",
   "id": "10db34b6",
   "metadata": {},
   "source": [
    "Отже, із тих моделей, що були побудовані для датасету `diabetes.csv`, <b>Support Vector Machine (SVC)</b> та <b>Random Forest Classifier</b> впоралися найкраще із завданням бінарної класифікації (передбачення діабету)."
   ]
  },
  {
   "cell_type": "code",
   "execution_count": null,
   "id": "35e9a975",
   "metadata": {},
   "outputs": [],
   "source": []
  }
 ],
 "metadata": {
  "kernelspec": {
   "display_name": "Python 3 (ipykernel)",
   "language": "python",
   "name": "python3"
  },
  "language_info": {
   "codemirror_mode": {
    "name": "ipython",
    "version": 3
   },
   "file_extension": ".py",
   "mimetype": "text/x-python",
   "name": "python",
   "nbconvert_exporter": "python",
   "pygments_lexer": "ipython3",
   "version": "3.10.6"
  }
 },
 "nbformat": 4,
 "nbformat_minor": 5
}
