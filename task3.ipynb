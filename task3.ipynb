{
 "cells": [
  {
   "cell_type": "markdown",
   "metadata": {
    "slideshow": {
     "slide_type": "slide"
    }
   },
   "source": [
    "# Вправи\n",
    "(використовувати тільки матричні операції)"
   ]
  },
  {
   "cell_type": "markdown",
   "metadata": {
    "slideshow": {
     "slide_type": "slide"
    }
   },
   "source": [
    "1. Отримати суму елементів та суму квадратів елементів вектора:"
   ]
  },
  {
   "cell_type": "code",
   "execution_count": 2,
   "metadata": {},
   "outputs": [
    {
     "name": "stdout",
     "output_type": "stream",
     "text": [
      "6.0\n",
      "14.0\n"
     ]
    }
   ],
   "source": [
    "import numpy as np\n",
    "\n",
    "x = np.array([1, 2, 3])\n",
    "y = np.ones(len(x))\n",
    "\n",
    "print(x @ y)\n",
    "print(x * x @ y)"
   ]
  },
  {
   "cell_type": "markdown",
   "metadata": {
    "slideshow": {
     "slide_type": "slide"
    }
   },
   "source": [
    "2. Для вектора попереднього завдання побудувати вектор, кожним елементом якого є середнє значення вектора."
   ]
  },
  {
   "cell_type": "code",
   "execution_count": 3,
   "metadata": {},
   "outputs": [
    {
     "name": "stdout",
     "output_type": "stream",
     "text": [
      "[2. 2. 2.]\n"
     ]
    }
   ],
   "source": [
    "print((x @ y / (y @ y)) * y )"
   ]
  },
  {
   "cell_type": "markdown",
   "metadata": {
    "slideshow": {
     "slide_type": "slide"
    }
   },
   "source": [
    "3. Написати функцію, яка приймає на вхід довільну кількість матриць, перевіряє, чи можна їх перемножити, і якщо можна, то повертає розмірність результату (можна скористатися циклом). "
   ]
  },
  {
   "cell_type": "code",
   "execution_count": 14,
   "metadata": {},
   "outputs": [
    {
     "name": "stdout",
     "output_type": "stream",
     "text": [
      "(True, [3, 3])\n",
      "(True, [2, 3])\n",
      "[[1008 1296 1584]\n",
      " [2952 3780 4608]]\n"
     ]
    }
   ],
   "source": [
    "def check(*matrices):\n",
    "    dim = list(matrices[0].shape)\n",
    "    for i in range(1, len(matrices)):\n",
    "        if dim[1] == matrices[i].shape[0]:\n",
    "            dim = [dim[0], matrices[i].shape[1]]\n",
    "        else:\n",
    "            return False\n",
    "    else:\n",
    "        return True, dim\n",
    "\n",
    "\n",
    "A = np.array([[1, 2, 3], [4, 5, 6], [7, 8, 9]])\n",
    "B = np.array([[9, 8, 7], [6, 5, 4], [3, 2, 1]])\n",
    "C = np.array([[2, 4, 6], [8, 10, 12], [14, 16, 18]])\n",
    "D = np.array([[3, 6, 9], [12, 15, 18], [21, 24, 27]])\n",
    "E = np.array([[4, 8, 12], [16, 20, 24], [28, 32, 36]])\n",
    "                   \n",
    "print(check(A, B, C, D, E))\n",
    "\n",
    "A = np.array([[1, 2, 3], [4, 5, 6]])\n",
    "B = np.array([[9, 8, 7], [6, 5, 4], [3, 2, 1]])\n",
    "C = np.array([[2, 4], [8, 10]])\n",
    "D = np.array([[3, 6, 9], [12, 15, 18]])\n",
    "E = np.array([[4, 8, 12], [16, 20, 24], [28, 32, 36]])\n",
    "                   \n",
    "print(check(A, B, C, D, E))"
   ]
  },
  {
   "cell_type": "markdown",
   "metadata": {
    "slideshow": {
     "slide_type": "slide"
    }
   },
   "source": [
    "4.Обчислити вираз:"
   ]
  },
  {
   "cell_type": "markdown",
   "metadata": {
    "slideshow": {
     "slide_type": "fragment"
    }
   },
   "source": [
    "$$\\sum_{i=1}^n(x_{i} - avg(x))^{2}$$"
   ]
  },
  {
   "cell_type": "code",
   "execution_count": 57,
   "metadata": {},
   "outputs": [
    {
     "name": "stdout",
     "output_type": "stream",
     "text": [
      "5.0\n"
     ]
    }
   ],
   "source": [
    "x = np.array([1, 2, 3, 4])\n",
    "y = np.ones(len(x))\n",
    "\n",
    "x = (x - x @ y / (y @ y))\n",
    "print(x*x @ y)"
   ]
  },
  {
   "cell_type": "markdown",
   "metadata": {
    "slideshow": {
     "slide_type": "slide"
    }
   },
   "source": [
    "5. Вивести матрицю, яка при множенні на вектор зліва (Мх) приводить його до форми відхилення від середнього значення. Тобто, кожним елементом вектора-результату буде відповідний елемент вхідного вектора мінус середнє значення. Матриця М не повинна залежати від вхідного вектора x, а лише від його довжини. Іншими словами, для створення такої матриці має бути достатньо лише знання скільки в них елементів."
   ]
  },
  {
   "cell_type": "code",
   "execution_count": 89,
   "metadata": {},
   "outputs": [
    {
     "name": "stdout",
     "output_type": "stream",
     "text": [
      "[[ 0.75 -0.25 -0.25 -0.25]\n",
      " [-0.25  0.75 -0.25 -0.25]\n",
      " [-0.25 -0.25  0.75 -0.25]\n",
      " [-0.25 -0.25 -0.25  0.75]]\n",
      "[-1.5 -0.5  0.5  1.5]\n"
     ]
    }
   ],
   "source": [
    "x = np.array([1, 2, 3, 4])\n",
    "y = np.ones(len(x))\n",
    "\n",
    "M = np.full((len(x), len(x)), -1 / len(x))\n",
    "np.fill_diagonal(M, 1 - 1 / len(x))\n",
    "print(M)\n",
    "print(M @ x)"
   ]
  },
  {
   "cell_type": "markdown",
   "metadata": {
    "slideshow": {
     "slide_type": "slide"
    }
   },
   "source": [
    "6. Розв'язати систему рівнянь (можна скористатися функцією кореня):"
   ]
  },
  {
   "cell_type": "markdown",
   "metadata": {
    "slideshow": {
     "slide_type": "fragment"
    }
   },
   "source": [
    "$$\n",
    "47a^{2} + 71b - 2c = 3\\\\\\\n",
    "11b - 8c = 3\\\\\\\n",
    "a^{2} + b + c = 24\\\\\\\n",
    "$$"
   ]
  },
  {
   "cell_type": "code",
   "execution_count": 16,
   "metadata": {},
   "outputs": [
    {
     "name": "stdout",
     "output_type": "stream",
     "text": [
      "[[ 0.        +6.1830856j]\n",
      " [26.36023055+0.j       ]\n",
      " [35.870317  +0.j       ]]\n",
      "[[-0.        -6.1830856j]\n",
      " [26.36023055+0.j       ]\n",
      " [35.870317  +0.j       ]]\n"
     ]
    }
   ],
   "source": [
    "import cmath \n",
    "A = np.array([[47, 71, -2], [0, 11, -8], [1, 1, 1]])\n",
    "b = np.array([3, 3, 24]).reshape(-1, 1)\n",
    "\n",
    "res = np.linalg.solve(A, b).reshape(-1)\n",
    "res = np.array([list(map(complex, res)), list(map(complex, res))])\n",
    "res[0][0] = cmath.sqrt(res[0][0])\n",
    "res[1][0] = -cmath.sqrt(res[1][0])\n",
    "print(res[0].reshape(-1, 1), res[1].reshape(-1, 1), sep=\"\\n\")"
   ]
  },
  {
   "cell_type": "code",
   "execution_count": null,
   "metadata": {},
   "outputs": [],
   "source": []
  }
 ],
 "metadata": {
  "celltoolbar": "Slideshow",
  "kernelspec": {
   "display_name": "Python 3 (ipykernel)",
   "language": "python",
   "name": "python3"
  },
  "language_info": {
   "codemirror_mode": {
    "name": "ipython",
    "version": 3
   },
   "file_extension": ".py",
   "mimetype": "text/x-python",
   "name": "python",
   "nbconvert_exporter": "python",
   "pygments_lexer": "ipython3",
   "version": "3.10.6"
  },
  "toc": {
   "base_numbering": 1,
   "nav_menu": {},
   "number_sections": true,
   "sideBar": true,
   "skip_h1_title": false,
   "title_cell": "Table of Contents",
   "title_sidebar": "Contents",
   "toc_cell": false,
   "toc_position": {},
   "toc_section_display": true,
   "toc_window_display": true
  },
  "varInspector": {
   "cols": {
    "lenName": 16,
    "lenType": 16,
    "lenVar": 40
   },
   "kernels_config": {
    "python": {
     "delete_cmd_postfix": "",
     "delete_cmd_prefix": "del ",
     "library": "var_list.py",
     "varRefreshCmd": "print(var_dic_list())"
    },
    "r": {
     "delete_cmd_postfix": ") ",
     "delete_cmd_prefix": "rm(",
     "library": "var_list.r",
     "varRefreshCmd": "cat(var_dic_list()) "
    }
   },
   "types_to_exclude": [
    "module",
    "function",
    "builtin_function_or_method",
    "instance",
    "_Feature"
   ],
   "window_display": false
  }
 },
 "nbformat": 4,
 "nbformat_minor": 2
}
