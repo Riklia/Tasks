{
 "cells": [
  {
   "cell_type": "markdown",
   "metadata": {
    "slideshow": {
     "slide_type": "slide"
    }
   },
   "source": [
    "1. Вибрати імена пасажирів, які підпадають під такі критерії:\n",
    "    - Клас каюти 1-й чи 3-й,\n",
    "    - Вік в інтервалі від 20 до 40,\n",
    "    - Ціна квитка НЕ знаходиться в інтервалі від 70 до 100."
   ]
  },
  {
   "cell_type": "code",
   "execution_count": 58,
   "metadata": {},
   "outputs": [],
   "source": [
    "import pandas as pd\n",
    "\n",
    "titanic_data = pd.read_csv('Заняття5/Files/TitanicDataset.csv', sep=',', header=0)"
   ]
  },
  {
   "cell_type": "code",
   "execution_count": 59,
   "metadata": {},
   "outputs": [
    {
     "data": {
      "text/plain": [
       "0                              Braund, Mr. Owen Harris\n",
       "2                               Heikkinen, Miss. Laina\n",
       "3         Futrelle, Mrs. Jacques Heath (Lily May Peel)\n",
       "4                             Allen, Mr. William Henry\n",
       "8    Johnson, Mrs. Oscar W (Elisabeth Vilhelmina Berg)\n",
       "Name: Name, dtype: object"
      ]
     },
     "execution_count": 59,
     "metadata": {},
     "output_type": "execute_result"
    }
   ],
   "source": [
    "titanic_data['Name'][(titanic_data['Pclass'].isin([1,3])) &\n",
    "             (titanic_data['Age'] >= 20) & (titanic_data['Age'] <= 40) &\n",
    "             ((titanic_data['Fare'] < 70) | (titanic_data['Fare'] > 100))].head()"
   ]
  },
  {
   "cell_type": "markdown",
   "metadata": {},
   "source": [
    "2. Ми отримали словник таблиць при читанні з файлу Excel - `crime_data`. Необхідно об'єднати всі таблиці словника в один DataFrame."
   ]
  },
  {
   "cell_type": "code",
   "execution_count": 60,
   "metadata": {},
   "outputs": [],
   "source": [
    "crime_data = pd.read_excel(\n",
    "    'Заняття5/Files/CrimesData.xlsx',\n",
    "    sheet_name=None, \n",
    "    usecols=\"A:F\",\n",
    "    nrows=5\n",
    ")"
   ]
  },
  {
   "cell_type": "code",
   "execution_count": 61,
   "metadata": {},
   "outputs": [
    {
     "data": {
      "text/html": [
       "<div>\n",
       "<style scoped>\n",
       "    .dataframe tbody tr th:only-of-type {\n",
       "        vertical-align: middle;\n",
       "    }\n",
       "\n",
       "    .dataframe tbody tr th {\n",
       "        vertical-align: top;\n",
       "    }\n",
       "\n",
       "    .dataframe thead th {\n",
       "        text-align: right;\n",
       "    }\n",
       "</style>\n",
       "<table border=\"1\" class=\"dataframe\">\n",
       "  <thead>\n",
       "    <tr style=\"text-align: right;\">\n",
       "      <th></th>\n",
       "      <th></th>\n",
       "      <th>CrimeDate</th>\n",
       "      <th>CrimeTime</th>\n",
       "      <th>CrimeCode</th>\n",
       "      <th>Location</th>\n",
       "      <th>Description</th>\n",
       "      <th>Weapon</th>\n",
       "    </tr>\n",
       "  </thead>\n",
       "  <tbody>\n",
       "    <tr>\n",
       "      <th rowspan=\"5\" valign=\"top\">2011</th>\n",
       "      <th>0</th>\n",
       "      <td>01/01/2011</td>\n",
       "      <td>00:00:00</td>\n",
       "      <td>6G</td>\n",
       "      <td>0 E CROSS ST</td>\n",
       "      <td>I</td>\n",
       "      <td>NaN</td>\n",
       "    </tr>\n",
       "    <tr>\n",
       "      <th>1</th>\n",
       "      <td>01/01/2011</td>\n",
       "      <td>00:10:00</td>\n",
       "      <td>5D</td>\n",
       "      <td>1900 W LOMBARD ST</td>\n",
       "      <td>I</td>\n",
       "      <td>NaN</td>\n",
       "    </tr>\n",
       "    <tr>\n",
       "      <th>2</th>\n",
       "      <td>01/01/2011</td>\n",
       "      <td>01:00:00</td>\n",
       "      <td>5D</td>\n",
       "      <td>2900 WATERVIEW AV</td>\n",
       "      <td>O</td>\n",
       "      <td>NaN</td>\n",
       "    </tr>\n",
       "    <tr>\n",
       "      <th>3</th>\n",
       "      <td>01/01/2011</td>\n",
       "      <td>01:38:00</td>\n",
       "      <td>4B</td>\n",
       "      <td>1500 HAZEL ST</td>\n",
       "      <td>O</td>\n",
       "      <td>KNIFE</td>\n",
       "    </tr>\n",
       "    <tr>\n",
       "      <th>4</th>\n",
       "      <td>01/01/2011</td>\n",
       "      <td>02:01:00</td>\n",
       "      <td>4B</td>\n",
       "      <td>0 W WILKES LN</td>\n",
       "      <td>O</td>\n",
       "      <td>KNIFE</td>\n",
       "    </tr>\n",
       "    <tr>\n",
       "      <th rowspan=\"5\" valign=\"top\">2012</th>\n",
       "      <th>0</th>\n",
       "      <td>01/01/2012</td>\n",
       "      <td>00:00:00</td>\n",
       "      <td>5C</td>\n",
       "      <td>NaN</td>\n",
       "      <td>I</td>\n",
       "      <td>NaN</td>\n",
       "    </tr>\n",
       "    <tr>\n",
       "      <th>1</th>\n",
       "      <td>01/01/2012</td>\n",
       "      <td>01:00:00</td>\n",
       "      <td>6C</td>\n",
       "      <td>0 E NORTH AV</td>\n",
       "      <td>I</td>\n",
       "      <td>NaN</td>\n",
       "    </tr>\n",
       "    <tr>\n",
       "      <th>2</th>\n",
       "      <td>01/01/2012</td>\n",
       "      <td>01:01:00</td>\n",
       "      <td>5A</td>\n",
       "      <td>1800 LETITIA AV</td>\n",
       "      <td>I</td>\n",
       "      <td>NaN</td>\n",
       "    </tr>\n",
       "    <tr>\n",
       "      <th>3</th>\n",
       "      <td>01/01/2012</td>\n",
       "      <td>01:01:00</td>\n",
       "      <td>6E</td>\n",
       "      <td>2100 AISQUITH ST</td>\n",
       "      <td>O</td>\n",
       "      <td>NaN</td>\n",
       "    </tr>\n",
       "    <tr>\n",
       "      <th>4</th>\n",
       "      <td>01/01/2012</td>\n",
       "      <td>01:10:00</td>\n",
       "      <td>4B</td>\n",
       "      <td>2200 EASTERN AV</td>\n",
       "      <td>O</td>\n",
       "      <td>KNIFE</td>\n",
       "    </tr>\n",
       "  </tbody>\n",
       "</table>\n",
       "</div>"
      ],
      "text/plain": [
       "         CrimeDate CrimeTime CrimeCode           Location Description Weapon\n",
       "2011 0  01/01/2011  00:00:00        6G       0 E CROSS ST           I    NaN\n",
       "     1  01/01/2011  00:10:00        5D  1900 W LOMBARD ST           I    NaN\n",
       "     2  01/01/2011  01:00:00        5D  2900 WATERVIEW AV           O    NaN\n",
       "     3  01/01/2011  01:38:00        4B      1500 HAZEL ST           O  KNIFE\n",
       "     4  01/01/2011  02:01:00        4B      0 W WILKES LN           O  KNIFE\n",
       "2012 0  01/01/2012  00:00:00        5C                NaN           I    NaN\n",
       "     1  01/01/2012  01:00:00        6C       0 E NORTH AV           I    NaN\n",
       "     2  01/01/2012  01:01:00        5A    1800 LETITIA AV           I    NaN\n",
       "     3  01/01/2012  01:01:00        6E   2100 AISQUITH ST           O    NaN\n",
       "     4  01/01/2012  01:10:00        4B    2200 EASTERN AV           O  KNIFE"
      ]
     },
     "execution_count": 61,
     "metadata": {},
     "output_type": "execute_result"
    }
   ],
   "source": [
    "crime_date_df = pd.concat(crime_data)\n",
    "# crime_date_df = pd.concat(crime_data.values())\n",
    "crime_date_df.head(10)"
   ]
  },
  {
   "cell_type": "markdown",
   "metadata": {},
   "source": [
    "3. Знайти унікальні комбінації значень колонок `Survived/Pclass/Sex` для пасажирів, у яких не відомий вік."
   ]
  },
  {
   "cell_type": "code",
   "execution_count": 57,
   "metadata": {},
   "outputs": [
    {
     "data": {
      "text/html": [
       "<div>\n",
       "<style scoped>\n",
       "    .dataframe tbody tr th:only-of-type {\n",
       "        vertical-align: middle;\n",
       "    }\n",
       "\n",
       "    .dataframe tbody tr th {\n",
       "        vertical-align: top;\n",
       "    }\n",
       "\n",
       "    .dataframe thead th {\n",
       "        text-align: right;\n",
       "    }\n",
       "</style>\n",
       "<table border=\"1\" class=\"dataframe\">\n",
       "  <thead>\n",
       "    <tr style=\"text-align: right;\">\n",
       "      <th></th>\n",
       "      <th>Sex</th>\n",
       "      <th>Survived</th>\n",
       "      <th>Pclass</th>\n",
       "    </tr>\n",
       "  </thead>\n",
       "  <tbody>\n",
       "    <tr>\n",
       "      <th>5</th>\n",
       "      <td>male</td>\n",
       "      <td>0</td>\n",
       "      <td>3</td>\n",
       "    </tr>\n",
       "    <tr>\n",
       "      <th>17</th>\n",
       "      <td>male</td>\n",
       "      <td>1</td>\n",
       "      <td>2</td>\n",
       "    </tr>\n",
       "    <tr>\n",
       "      <th>19</th>\n",
       "      <td>female</td>\n",
       "      <td>1</td>\n",
       "      <td>3</td>\n",
       "    </tr>\n",
       "    <tr>\n",
       "      <th>31</th>\n",
       "      <td>female</td>\n",
       "      <td>1</td>\n",
       "      <td>1</td>\n",
       "    </tr>\n",
       "    <tr>\n",
       "      <th>36</th>\n",
       "      <td>male</td>\n",
       "      <td>1</td>\n",
       "      <td>3</td>\n",
       "    </tr>\n",
       "    <tr>\n",
       "      <th>55</th>\n",
       "      <td>male</td>\n",
       "      <td>1</td>\n",
       "      <td>1</td>\n",
       "    </tr>\n",
       "    <tr>\n",
       "      <th>64</th>\n",
       "      <td>male</td>\n",
       "      <td>0</td>\n",
       "      <td>1</td>\n",
       "    </tr>\n",
       "    <tr>\n",
       "      <th>140</th>\n",
       "      <td>female</td>\n",
       "      <td>0</td>\n",
       "      <td>3</td>\n",
       "    </tr>\n",
       "    <tr>\n",
       "      <th>181</th>\n",
       "      <td>male</td>\n",
       "      <td>0</td>\n",
       "      <td>2</td>\n",
       "    </tr>\n",
       "    <tr>\n",
       "      <th>303</th>\n",
       "      <td>female</td>\n",
       "      <td>1</td>\n",
       "      <td>2</td>\n",
       "    </tr>\n",
       "  </tbody>\n",
       "</table>\n",
       "</div>"
      ],
      "text/plain": [
       "        Sex  Survived  Pclass\n",
       "5      male         0       3\n",
       "17     male         1       2\n",
       "19   female         1       3\n",
       "31   female         1       1\n",
       "36     male         1       3\n",
       "55     male         1       1\n",
       "64     male         0       1\n",
       "140  female         0       3\n",
       "181    male         0       2\n",
       "303  female         1       2"
      ]
     },
     "execution_count": 57,
     "metadata": {},
     "output_type": "execute_result"
    }
   ],
   "source": [
    "titanic_data[['Sex', 'Survived', 'Pclass']][titanic_data['Age'].isna()].drop_duplicates()"
   ]
  }
 ],
 "metadata": {
  "celltoolbar": "Slideshow",
  "kernelspec": {
   "display_name": "Python 3 (ipykernel)",
   "language": "python",
   "name": "python3"
  },
  "language_info": {
   "codemirror_mode": {
    "name": "ipython",
    "version": 3
   },
   "file_extension": ".py",
   "mimetype": "text/x-python",
   "name": "python",
   "nbconvert_exporter": "python",
   "pygments_lexer": "ipython3",
   "version": "3.10.6"
  },
  "toc": {
   "base_numbering": 1,
   "nav_menu": {},
   "number_sections": true,
   "sideBar": true,
   "skip_h1_title": false,
   "title_cell": "Table of Contents",
   "title_sidebar": "Contents",
   "toc_cell": false,
   "toc_position": {},
   "toc_section_display": true,
   "toc_window_display": true
  },
  "varInspector": {
   "cols": {
    "lenName": 16,
    "lenType": 16,
    "lenVar": 40
   },
   "kernels_config": {
    "python": {
     "delete_cmd_postfix": "",
     "delete_cmd_prefix": "del ",
     "library": "var_list.py",
     "varRefreshCmd": "print(var_dic_list())"
    },
    "r": {
     "delete_cmd_postfix": ") ",
     "delete_cmd_prefix": "rm(",
     "library": "var_list.r",
     "varRefreshCmd": "cat(var_dic_list()) "
    }
   },
   "types_to_exclude": [
    "module",
    "function",
    "builtin_function_or_method",
    "instance",
    "_Feature"
   ],
   "window_display": false
  }
 },
 "nbformat": 4,
 "nbformat_minor": 2
}
