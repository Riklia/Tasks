{
 "cells": [
  {
   "cell_type": "markdown",
   "id": "d2366f4b",
   "metadata": {
    "id": "d2366f4b"
   },
   "source": [
    "# Завдання #1"
   ]
  },
  {
   "cell_type": "markdown",
   "id": "056c13fa",
   "metadata": {
    "id": "056c13fa"
   },
   "source": [
    "1. Перевірити чи рік є високосний для даного формату змінної (тобто, дата буде подаватися наступного формату):\n",
    "\n",
    "input_date = '2019-05-23'"
   ]
  },
  {
   "cell_type": "code",
   "execution_count": 2,
   "id": "c567aa78",
   "metadata": {
    "id": "c567aa78"
   },
   "outputs": [
    {
     "name": "stdout",
     "output_type": "stream",
     "text": [
      "Невисокосний\n"
     ]
    }
   ],
   "source": [
    "input_date = '2019-05-23'\n",
    "input_date = int(input_date.split('-')[0])\n",
    "if input_date % 4 == 0 and input_date % 100 != 0:\n",
    "    print(\"Високосний\")\n",
    "elif input_date % 400 == 0:\n",
    "    print(\"Високосний\")\n",
    "else:\n",
    "    print(\"Невисокосний\")"
   ]
  },
  {
   "cell_type": "markdown",
   "id": "78705459",
   "metadata": {},
   "source": [
    "2. Вивести на екран всі числа, які більші за середнє значення списку\n",
    "\n",
    "input_list = [1, 6, 13, 76, 44, 56, 12, 13, 7, 8, 9]"
   ]
  },
  {
   "cell_type": "code",
   "execution_count": 3,
   "id": "2dddb514",
   "metadata": {
    "id": "2dddb514"
   },
   "outputs": [
    {
     "data": {
      "text/plain": [
       "[76, 44, 56]"
      ]
     },
     "execution_count": 3,
     "metadata": {},
     "output_type": "execute_result"
    }
   ],
   "source": [
    "input_list = [1, 6, 13, 76, 44, 56, 12, 13, 7, 8, 9]\n",
    "avg = sum(input_list)/len(input_list)\n",
    "[i for i in input_list if i > avg]"
   ]
  },
  {
   "cell_type": "markdown",
   "id": "a47b3e5e",
   "metadata": {
    "id": "b0d69b49"
   },
   "source": [
    "3. Дано рядок слів. Створити словник, ключами якого є слова з дано рядка, а значеннями - кількість появ слова в рядку (пунктуацію попередньо видаліть).  \n",
    "text = ‘Let me not to the marriage of true minds. Admit impediments, love is not love. Which alters when it alteration finds, Or bends with the remover to remove. O no, it is an ever fixèd mark. That looks on tempests and is never shaken; It is the star to every wand'ring bark, Whose worth's unknown although his height be taken. Love's not time's fool, though rosy lips and cheeks. Within his bending sickle's compass come, Love alters not with his brief hours and weeks, But bears it out even to the edge of doom: If this be error and upon me proved, I never writ, nor no man ever loved.’"
   ]
  },
  {
   "cell_type": "code",
   "execution_count": 22,
   "id": "9b509e61",
   "metadata": {
    "id": "9b509e61"
   },
   "outputs": [
    {
     "data": {
      "text/plain": [
       "{'tempests': 1,\n",
       " 'taken': 1,\n",
       " 'bending': 1,\n",
       " \"wand'ring\": 1,\n",
       " \"time's\": 1,\n",
       " 'fixèd': 1,\n",
       " 'on': 1,\n",
       " 'nor': 1,\n",
       " 'when': 1,\n",
       " 'doom': 1,\n",
       " 'upon': 1,\n",
       " 'me': 2,\n",
       " 'man': 1,\n",
       " 'whose': 1,\n",
       " 'writ': 1,\n",
       " 'out': 1,\n",
       " 'unknown': 1,\n",
       " 'within': 1,\n",
       " 'is': 4,\n",
       " 'looks': 1,\n",
       " 'remover': 1,\n",
       " 'but': 1,\n",
       " 'height': 1,\n",
       " 'rosy': 1,\n",
       " 'even': 1,\n",
       " 'brief': 1,\n",
       " 'error': 1,\n",
       " 'finds': 1,\n",
       " 'not': 4,\n",
       " 'loved': 1,\n",
       " 'come': 1,\n",
       " 'remove': 1,\n",
       " 'this': 1,\n",
       " 'love': 3,\n",
       " 'with': 2,\n",
       " 'alters': 2,\n",
       " 'an': 1,\n",
       " 'let': 1,\n",
       " 'hours': 1,\n",
       " \"love's\": 1,\n",
       " 'every': 1,\n",
       " 'ever': 2,\n",
       " 'of': 2,\n",
       " 'no': 2,\n",
       " 'though': 1,\n",
       " 'if': 1,\n",
       " 'or': 1,\n",
       " 'marriage': 1,\n",
       " 'o': 1,\n",
       " 'although': 1,\n",
       " 'weeks': 1,\n",
       " 'impediments': 1,\n",
       " 'which': 1,\n",
       " 'star': 1,\n",
       " 'his': 3,\n",
       " 'admit': 1,\n",
       " 'mark': 1,\n",
       " 'i': 1,\n",
       " 'alteration': 1,\n",
       " 'minds': 1,\n",
       " 'bears': 1,\n",
       " 'fool': 1,\n",
       " \"sickle's\": 1,\n",
       " 'cheeks': 1,\n",
       " 'shaken': 1,\n",
       " 'true': 1,\n",
       " 'compass': 1,\n",
       " 'edge': 1,\n",
       " 'lips': 1,\n",
       " 'the': 4,\n",
       " 'and': 4,\n",
       " 'never': 2,\n",
       " 'be': 2,\n",
       " 'that': 1,\n",
       " 'to': 4,\n",
       " 'proved': 1,\n",
       " 'it': 4,\n",
       " \"worth's\": 1,\n",
       " 'bark': 1,\n",
       " 'bends': 1}"
      ]
     },
     "execution_count": 22,
     "metadata": {},
     "output_type": "execute_result"
    }
   ],
   "source": [
    "text = \"Let me not to the marriage of true minds. Admit impediments, love is not love. Which alters when it alteration finds, Or bends with the remover to remove. O no, it is an ever fixèd mark. That looks on tempests and is never shaken; It is the star to every wand'ring bark, Whose worth's unknown although his height be taken. Love's not time's fool, though rosy lips and cheeks. Within his bending sickle's compass come, Love alters not with his brief hours and weeks, But bears it out even to the edge of doom: If this be error and upon me proved, I never writ, nor no man ever loved.\"\n",
    "punctuation = ',.:;!?-'\n",
    "for sign in punctuation:\n",
    "    text = text.replace(sign, '')\n",
    "text = text.lower().split()\n",
    "# if love's and love is the same word    \n",
    "text = {word: text.count(word) for word in set(text)}\n",
    "text"
   ]
  },
  {
   "cell_type": "markdown",
   "id": "ddb2c79d",
   "metadata": {
    "id": "81bc8270"
   },
   "source": [
    "4. Елементами списку є слова. Знайти слова в списку з найбільшою і найменшою кількістю літер (апостроф літерою не вважати). Якщо найбільших, чи найменших слів є кілька, что надрукувати всі.  \n",
    "strings = [\"it\", \"is\", \"the\", \"star\", \"to\", \"every\", \"wand'ring\", \"bark\", \"whose\", \"worth's\", \"unknown\", \"although\", \"his\", \"height\", \"be\", \"taken\"]"
   ]
  },
  {
   "cell_type": "code",
   "execution_count": 24,
   "id": "d5f877a5",
   "metadata": {},
   "outputs": [
    {
     "data": {
      "text/plain": [
       "{'it': 2,\n",
       " 'is': 2,\n",
       " 'the': 3,\n",
       " 'star': 4,\n",
       " 'to': 2,\n",
       " 'every': 5,\n",
       " \"wand'ring\": 8,\n",
       " 'bark': 4,\n",
       " 'whose': 5,\n",
       " \"worth's\": 6,\n",
       " 'unknown': 7,\n",
       " 'although': 8,\n",
       " 'his': 3,\n",
       " 'height': 6,\n",
       " 'be': 2,\n",
       " 'taken': 5}"
      ]
     },
     "execution_count": 24,
     "metadata": {},
     "output_type": "execute_result"
    }
   ],
   "source": [
    "strings = [\"it\", \"is\", \"the\", \"star\", \"to\", \"every\", \"wand'ring\", \"bark\", \"whose\", \"worth's\", \"unknown\", \"although\", \"his\", \"height\", \"be\", \"taken\"]\n",
    "{word :len(word.replace(\"'\", \"\")) for word in strings}"
   ]
  },
  {
   "cell_type": "markdown",
   "id": "3ca44595",
   "metadata": {},
   "source": [
    "5. Знайти значення суми  \n",
    "$\\frac{1}{1^2}+\\frac{1}{2^2}+\\frac{1}{3^2}+\\frac{1}{4^2}+...+\\frac{1}{n^2}$."
   ]
  },
  {
   "cell_type": "code",
   "execution_count": 1,
   "id": "b596aa23",
   "metadata": {},
   "outputs": [
    {
     "name": "stdout",
     "output_type": "stream",
     "text": [
      "1.5497677311665408\n"
     ]
    }
   ],
   "source": [
    "def sum_func(n):\n",
    "    return sum([1/i**2 for i in range(1, n+1)])\n",
    "\n",
    "n = 10\n",
    "print(sum_func(n))"
   ]
  }
 ],
 "metadata": {
  "colab": {
   "provenance": []
  },
  "kernelspec": {
   "display_name": "Python 3 (ipykernel)",
   "language": "python",
   "name": "python3"
  },
  "language_info": {
   "codemirror_mode": {
    "name": "ipython",
    "version": 3
   },
   "file_extension": ".py",
   "mimetype": "text/x-python",
   "name": "python",
   "nbconvert_exporter": "python",
   "pygments_lexer": "ipython3",
   "version": "3.10.6"
  }
 },
 "nbformat": 4,
 "nbformat_minor": 5
}
